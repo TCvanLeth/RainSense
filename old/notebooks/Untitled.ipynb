{
 "cells": [
  {
   "cell_type": "code",
   "execution_count": 1,
   "metadata": {
    "collapsed": false
   },
   "outputs": [
    {
     "name": "stderr",
     "output_type": "stream",
     "text": [
      "C:\\Anaconda3\\lib\\site-packages\\sklearn\\utils\\fixes.py:64: DeprecationWarning: inspect.getargspec() is deprecated, use inspect.signature() instead\n",
      "  if 'order' in inspect.getargspec(np.copy)[0]:\n"
     ]
    }
   ],
   "source": [
    "import mwlink.core.inout_common as io\n",
    "import mwlink.core.ufuncs as uf\n",
    "import mwlink.core.plotting_common as pl\n",
    "\n",
    "import importlib\n",
    "import matplotlib.pyplot as plt\n",
    "import pickle\n",
    "import bokeh.plotting as bk\n",
    "uf = importlib.reload(uf)\n",
    "pl = importlib.reload(pl)\n",
    "\n",
    "from pylab import rcParams\n",
    "rcParams['figure.figsize'] = 16, 4\n",
    "from matplotlib import cm\n",
    "import matplotlib as mpl"
   ]
  },
  {
   "cell_type": "code",
   "execution_count": 2,
   "metadata": {
    "collapsed": true
   },
   "outputs": [],
   "source": [
    "vdat = io.import_ds('atmo_l1', 'Veenkampen')"
   ]
  },
  {
   "cell_type": "code",
   "execution_count": 5,
   "metadata": {
    "collapsed": false
   },
   "outputs": [
    {
     "data": {
      "text/plain": [
       "Stations:\n",
       "veenkampen      Channels:\n",
       "  channel_1      <Channel> channel_1\n",
       "    dimensions:\n",
       "      * time                       (time) datetime64[ns] 2014-08-20 ...\n",
       "    coordinates:\n",
       "        *empty*\n",
       "    variables:\n",
       "        wind_speed_sonic_10m_max   (time) float64 nan 3.39 3.4 3.74 4.4 4.56 ...\n",
       "        temp_Vaisala               (time) float64 nan 10.75 10.74 10.71 10.66 ...\n",
       "        rain_detection_sensor      (time) int64 [-9999     0     0     0     0     0     0     0     0     0     0     0\n",
       "         0     0     0     0     0     0] ...\n",
       "        wind_speed_cup_10m_max     (time) float64 nan 3.7 3.638 4.825 4.138 ...\n",
       "        temp_unvent_dry            (time) float64 nan 10.81 10.8 10.76 10.71 ...\n",
       "        sunshine_duration          (time) float64 nan 0.0 0.0 0.0 0.0 0.0 0.0 ...\n",
       "        wind_speed_sonic_2m_max    (time) float64 nan 2.47 2.23 3.11 3.44 3.58 ...\n",
       "        relative_humidity          (time) float64 nan 84.7 84.3 84.5 85.0 84.6 ...\n",
       "        wind_direction_sonic_10m   (time) float64 nan 233.1 238.5 237.9 234.8 ...\n",
       "        wind_speed_sonic_2m_mean   (time) float64 nan 1.997 1.935 2.2 2.575 ...\n",
       "        temp_shielded              (time) float64 nan 10.13 10.07 10.04 9.993 ...\n",
       "        pressure                   (time) float64 nan 101.4 101.4 101.4 101.4 ...\n",
       "        wind_direction_sonic_2m    (time) float64 nan 235.3 237.4 244.8 235.8 ...\n",
       "        temp_vent_wet              (time) float64 nan 9.682 9.672 9.642 9.606 ...\n",
       "        wind_speed_cup_10m_mean    (time) float64 nan 3.117 3.279 3.592 3.429 ...\n",
       "        wind_speed_sonic_10m_mean  (time) float64 nan 2.645 2.959 2.953 3.447 ...\n",
       "        visibility                 (time) float64 nan 7.999e+03 7.999e+03 ...\n",
       "        precipitation              (time) float64 nan 0.0 0.0 0.0 0.0 0.0 0.0 ...\n",
       "        temp_unvent_wet            (time) float64 nan 9.73 9.71 9.7 9.7 9.65 ...\n",
       "        rain_tipping_bucket        (time) float64 nan 0.0 0.0 0.0 0.0 0.0 0.0 ...\n",
       "        snow_height                (time) float64 nan 3.153 3.1 3.147 3.16 9.687 ...\n",
       "        temp_vent_dry              (time) float64 nan 10.81 10.79 10.72 10.67 ...\n",
       "    Attributes:\n",
       "        channel_id:                channel_1\n",
       "        temporal_resolution:       1m\n",
       "  Auxiliary:\n",
       "    <Channel> NA\n",
       "    dimensions:\n",
       "        *empty*\n",
       "    coordinates:\n",
       "        *empty*\n",
       "    variables:\n",
       "        *empty*\n",
       "    Attributes:\n",
       "        channe...NA\n",
       "        tempor...NA\n",
       "  Attributes:\n",
       "      system_model:  NA\n",
       "      station_id:  veenkampen\n",
       "      site_longitude:  5.677\n",
       "      system_manufacturer:  NA\n",
       "      site_id:  veenkampen\n",
       "      site_altitude:  nan\n",
       "      system_type:  NA\n",
       "      site_latitude:  51.971\n",
       "      temporal_resolution:  1m\n",
       "Auxiliary:\n",
       "  Channels:\n",
       "  Auxiliary:\n",
       "    <Channel> NA\n",
       "    dimensions:\n",
       "        *empty*\n",
       "    coordinates:\n",
       "        *empty*\n",
       "    variables:\n",
       "        *empty*\n",
       "    Attributes:\n",
       "        channe...NA\n",
       "        tempor...NA\n",
       "  Attributes:\n",
       "      system_model:  NA\n",
       "      station_id:  NA\n",
       "      system_type:  NA\n",
       "      system_manufacturer:  NA\n",
       "Attributes:\n",
       "    pro_id:  NA\n",
       "    temporal_resolution:  NA\n",
       "    level:  atmo_l1\n",
       "    file_format version:  0.1\n",
       "    author_name:  T.C. van Leth\n",
       "    set_id:  Veenkampen\n",
       "    source_type:  meteostation\n",
       "    file_format_version:  0.1\n",
       "    file_format:  CMLh5"
      ]
     },
     "execution_count": 5,
     "metadata": {},
     "output_type": "execute_result"
    }
   ],
   "source": [
    "vdat"
   ]
  },
  {
   "cell_type": "code",
   "execution_count": 44,
   "metadata": {
    "collapsed": false
   },
   "outputs": [],
   "source": [
    "fig, ax = plt.subplots()\n",
    "pl.lineplot(ax, vdat['veenkampen', 'channel_1', 'temp_vent_wet'], 'temperature wet')\n",
    "pl.lineplot(ax, vdat['veenkampen', 'channel_1', 'temp_vent_dry'], 'temperature dry')\n",
    "ax2 = ax.twinx()\n",
    "pl.lineplot(ax2, vdat['veenkampen', 'channel_1', 'relative_humidity'], 'relative_humidity', style='r')\n",
    "ax2.set_ylim(0,100)\n",
    "\n",
    "ax.set_xlabel('time')\n",
    "ax.set_ylabel('temperature (deg C)')\n",
    "ax.set_xlim('2015-04-14 00:00', '2015-04-24 00:00')\n",
    "ax.set_ylim(-5, 25)\n",
    "ax.legend()\n",
    "ax.set_title('Ambient conditions: April 2015')\n",
    "plt.grid=True"
   ]
  },
  {
   "cell_type": "code",
   "execution_count": 10,
   "metadata": {
    "collapsed": false
   },
   "outputs": [
    {
     "data": {
      "text/plain": [
       "<matplotlib.legend.Legend at 0x864ccaa518>"
      ]
     },
     "execution_count": 10,
     "metadata": {},
     "output_type": "execute_result"
    }
   ],
   "source": [
    "fig, ax = plt.subplots()\n",
    "pl.lineplot(ax, vdat['veenkampen', 'channel_1', 'relative_humidity'], 'relative humidity')\n",
    "ax.set_ylim(0, 100)\n",
    "\n",
    "ax2 = ax.twinx()\n",
    "pl.lineplot(ax2, vdat['veenkampen', 'channel_1', 'wind_speed_sonic_10m_mean'], 'wind speed', style='r')\n",
    "ax2.set_ylim(0, 15)\n",
    "\n",
    "ax.set_xlabel('time')\n",
    "ax.set_xlim('2015-12-01 05:00', '2015-12-02 05:00')\n",
    "ax.set_title('Ambient conditions: 1 December 2015')\n",
    "plt.grid=True\n",
    "\n",
    "lines, labels = ax.get_legend_handles_labels()\n",
    "lines2, labels2 = ax2.get_legend_handles_labels()\n",
    "ax2.legend(lines + lines2, labels + labels2, loc=0)"
   ]
  },
  {
   "cell_type": "code",
   "execution_count": 11,
   "metadata": {
    "collapsed": true
   },
   "outputs": [],
   "source": [
    "plt.show()"
   ]
  },
  {
   "cell_type": "code",
   "execution_count": null,
   "metadata": {
    "collapsed": true
   },
   "outputs": [],
   "source": []
  }
 ],
 "metadata": {
  "kernelspec": {
   "display_name": "Python 3",
   "language": "python",
   "name": "python3"
  },
  "language_info": {
   "codemirror_mode": {
    "name": "ipython",
    "version": 3
   },
   "file_extension": ".py",
   "mimetype": "text/x-python",
   "name": "python",
   "nbconvert_exporter": "python",
   "pygments_lexer": "ipython3",
   "version": "3.5.1"
  }
 },
 "nbformat": 4,
 "nbformat_minor": 0
}

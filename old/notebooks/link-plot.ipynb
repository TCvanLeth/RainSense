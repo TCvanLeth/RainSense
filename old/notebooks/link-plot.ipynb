{
 "cells": [
  {
   "cell_type": "markdown",
   "metadata": {},
   "source": [
    "# plotting timeseries of link attenuation\n"
   ]
  },
  {
   "cell_type": "markdown",
   "metadata": {},
   "source": [
    "## load data"
   ]
  },
  {
   "cell_type": "code",
   "execution_count": null,
   "metadata": {
    "collapsed": true
   },
   "outputs": [],
   "source": [
    "import warnings\n",
    "warnings.filterwarnings('ignore')"
   ]
  },
  {
   "cell_type": "code",
   "execution_count": 1,
   "metadata": {
    "collapsed": false,
    "scrolled": true
   },
   "outputs": [],
   "source": [
    "import mwlink.inout as io\n",
    "import harray.ufuncs as uf\n",
    "import harray.plotting_common as pl\n",
    "\n",
    "import importlib\n",
    "import matplotlib.pyplot as plt\n",
    "import pickle\n",
    "import numpy as np\n",
    "import bokeh.plotting as bk\n",
    "uf = importlib.reload(uf)\n",
    "pl = importlib.reload(pl)\n",
    "\n",
    "from pylab import rcParams\n",
    "rcParams['figure.figsize'] = 16, 9\n",
    "from matplotlib import cm\n",
    "import matplotlib as mpl\n",
    "%matplotlib qt"
   ]
  },
  {
   "cell_type": "code",
   "execution_count": 11,
   "metadata": {
    "collapsed": false
   },
   "outputs": [
    {
     "ename": "KeyboardInterrupt",
     "evalue": "",
     "output_type": "error",
     "traceback": [
      "\u001b[0;31m---------------------------------------------------------------------------\u001b[0m",
      "\u001b[0;31mKeyboardInterrupt\u001b[0m                         Traceback (most recent call last)",
      "\u001b[0;32m<ipython-input-11-776d9d826111>\u001b[0m in \u001b[0;36m<module>\u001b[0;34m()\u001b[0m\n\u001b[1;32m      1\u001b[0m \u001b[0mtimes\u001b[0m \u001b[0;34m=\u001b[0m \u001b[0mslice\u001b[0m\u001b[0;34m(\u001b[0m\u001b[0mnp\u001b[0m\u001b[0;34m.\u001b[0m\u001b[0mdatetime64\u001b[0m\u001b[0;34m(\u001b[0m\u001b[0;34m'2015-07-01'\u001b[0m\u001b[0;34m)\u001b[0m\u001b[0;34m,\u001b[0m \u001b[0mnp\u001b[0m\u001b[0;34m.\u001b[0m\u001b[0mdatetime64\u001b[0m\u001b[0;34m(\u001b[0m\u001b[0;34m'2015-07-08'\u001b[0m\u001b[0;34m)\u001b[0m\u001b[0;34m)\u001b[0m\u001b[0;34m\u001b[0m\u001b[0m\n\u001b[0;32m----> 2\u001b[0;31m \u001b[0mldat\u001b[0m \u001b[0;34m=\u001b[0m \u001b[0mio\u001b[0m\u001b[0;34m.\u001b[0m\u001b[0mimport_ds\u001b[0m\u001b[0;34m(\u001b[0m\u001b[0;34m'link_l2'\u001b[0m\u001b[0;34m,\u001b[0m \u001b[0;34m'WURex14'\u001b[0m\u001b[0;34m,\u001b[0m \u001b[0mproID\u001b[0m\u001b[0;34m=\u001b[0m\u001b[0;34m'link_test1'\u001b[0m\u001b[0;34m)\u001b[0m\u001b[0;34m\u001b[0m\u001b[0m\n\u001b[0m",
      "\u001b[0;32m/home/tcvanleth/Code/mwlink/inout.py\u001b[0m in \u001b[0;36mimport_ds\u001b[0;34m(level, setID, proID, times, **kwargs)\u001b[0m\n\u001b[1;32m     51\u001b[0m             \u001b[0msubpath\u001b[0m \u001b[0;34m=\u001b[0m \u001b[0mmakename\u001b[0m\u001b[0;34m(\u001b[0m\u001b[0msetID\u001b[0m\u001b[0;34m,\u001b[0m \u001b[0mthisday\u001b[0m\u001b[0;34m,\u001b[0m \u001b[0minpath\u001b[0m\u001b[0;34m)\u001b[0m\u001b[0;34m\u001b[0m\u001b[0m\n\u001b[1;32m     52\u001b[0m             \u001b[0;32mtry\u001b[0m\u001b[0;34m:\u001b[0m\u001b[0;34m\u001b[0m\u001b[0m\n\u001b[0;32m---> 53\u001b[0;31m                 \u001b[0mdata\u001b[0m \u001b[0;34m+=\u001b[0m \u001b[0;34m[\u001b[0m\u001b[0mio\u001b[0m\u001b[0;34m.\u001b[0m\u001b[0mfrom_hdf\u001b[0m\u001b[0;34m(\u001b[0m\u001b[0mcls\u001b[0m\u001b[0;34m,\u001b[0m \u001b[0msubpath\u001b[0m\u001b[0;34m,\u001b[0m \u001b[0;34m**\u001b[0m\u001b[0mkwargs\u001b[0m\u001b[0;34m)\u001b[0m\u001b[0;34m]\u001b[0m\u001b[0;34m\u001b[0m\u001b[0m\n\u001b[0m\u001b[1;32m     54\u001b[0m             \u001b[0;32mexcept\u001b[0m \u001b[0mIOError\u001b[0m\u001b[0;34m:\u001b[0m\u001b[0;34m\u001b[0m\u001b[0m\n\u001b[1;32m     55\u001b[0m                 \u001b[0;32mcontinue\u001b[0m\u001b[0;34m\u001b[0m\u001b[0m\n",
      "\u001b[0;32m/home/tcvanleth/Code/harray/inout_common.py\u001b[0m in \u001b[0;36mfrom_hdf\u001b[0;34m(cls, inpath, **kwargs)\u001b[0m\n\u001b[1;32m     91\u001b[0m \u001b[0;34m\u001b[0m\u001b[0m\n\u001b[1;32m     92\u001b[0m     \u001b[0minh\u001b[0m \u001b[0;34m=\u001b[0m \u001b[0mh5py\u001b[0m\u001b[0;34m.\u001b[0m\u001b[0mFile\u001b[0m\u001b[0;34m(\u001b[0m\u001b[0minpath\u001b[0m\u001b[0;34m,\u001b[0m \u001b[0mmode\u001b[0m\u001b[0;34m=\u001b[0m\u001b[0;34m'r'\u001b[0m\u001b[0;34m)\u001b[0m\u001b[0;34m\u001b[0m\u001b[0m\n\u001b[0;32m---> 93\u001b[0;31m     \u001b[0mdata\u001b[0m \u001b[0;34m=\u001b[0m \u001b[0mcls\u001b[0m\u001b[0;34m.\u001b[0m\u001b[0mfrom_store\u001b[0m\u001b[0;34m(\u001b[0m\u001b[0minh\u001b[0m\u001b[0;34m,\u001b[0m \u001b[0;34m**\u001b[0m\u001b[0mkwargs\u001b[0m\u001b[0;34m)\u001b[0m\u001b[0;34m\u001b[0m\u001b[0m\n\u001b[0m\u001b[1;32m     94\u001b[0m     \u001b[0mdata\u001b[0m\u001b[0;34m.\u001b[0m\u001b[0mhandles\u001b[0m \u001b[0;34m|=\u001b[0m \u001b[0;34m{\u001b[0m\u001b[0minh\u001b[0m\u001b[0;34m}\u001b[0m\u001b[0;34m\u001b[0m\u001b[0m\n\u001b[1;32m     95\u001b[0m     \u001b[0;32mreturn\u001b[0m \u001b[0mdata\u001b[0m\u001b[0;34m\u001b[0m\u001b[0m\n",
      "\u001b[0;32m/home/tcvanleth/Code/harray/container_common.py\u001b[0m in \u001b[0;36mfrom_store\u001b[0;34m(cls, inh, stations, **kwargs)\u001b[0m\n\u001b[1;32m    762\u001b[0m         \u001b[0mdata\u001b[0m \u001b[0;34m=\u001b[0m \u001b[0mcls\u001b[0m\u001b[0;34m(\u001b[0m\u001b[0mattrs\u001b[0m\u001b[0;34m=\u001b[0m\u001b[0mAttributes\u001b[0m\u001b[0;34m.\u001b[0m\u001b[0mfrom_store\u001b[0m\u001b[0;34m(\u001b[0m\u001b[0minh\u001b[0m\u001b[0;34m)\u001b[0m\u001b[0;34m)\u001b[0m\u001b[0;34m\u001b[0m\u001b[0m\n\u001b[1;32m    763\u001b[0m         \u001b[0;32mfor\u001b[0m \u001b[0msID\u001b[0m\u001b[0;34m,\u001b[0m \u001b[0mistat\u001b[0m \u001b[0;32min\u001b[0m \u001b[0mitems\u001b[0m\u001b[0;34m:\u001b[0m\u001b[0;34m\u001b[0m\u001b[0m\n\u001b[0;32m--> 764\u001b[0;31m             \u001b[0mjstat\u001b[0m \u001b[0;34m=\u001b[0m \u001b[0mcls\u001b[0m\u001b[0;34m.\u001b[0m\u001b[0m_sub\u001b[0m\u001b[0;34m.\u001b[0m\u001b[0mfrom_store\u001b[0m\u001b[0;34m(\u001b[0m\u001b[0mistat\u001b[0m\u001b[0;34m,\u001b[0m \u001b[0;34m**\u001b[0m\u001b[0mkwargs\u001b[0m\u001b[0;34m)\u001b[0m\u001b[0;34m\u001b[0m\u001b[0m\n\u001b[0m\u001b[1;32m    765\u001b[0m             \u001b[0;32mif\u001b[0m \u001b[0msID\u001b[0m \u001b[0;34m==\u001b[0m \u001b[0;34m'auxiliary'\u001b[0m\u001b[0;34m:\u001b[0m\u001b[0;34m\u001b[0m\u001b[0m\n\u001b[1;32m    766\u001b[0m                 \u001b[0mdata\u001b[0m\u001b[0;34m.\u001b[0m\u001b[0maux\u001b[0m \u001b[0;34m=\u001b[0m \u001b[0mjstat\u001b[0m\u001b[0;34m\u001b[0m\u001b[0m\n",
      "\u001b[0;32m/home/tcvanleth/Code/harray/container_common.py\u001b[0m in \u001b[0;36mfrom_store\u001b[0;34m(cls, inh, channels, **kwargs)\u001b[0m\n\u001b[1;32m    405\u001b[0m     \u001b[0;32mdef\u001b[0m \u001b[0mfrom_store\u001b[0m\u001b[0;34m(\u001b[0m\u001b[0mcls\u001b[0m\u001b[0;34m,\u001b[0m \u001b[0minh\u001b[0m\u001b[0;34m,\u001b[0m \u001b[0mchannels\u001b[0m\u001b[0;34m=\u001b[0m\u001b[0;32mNone\u001b[0m\u001b[0;34m,\u001b[0m \u001b[0;34m**\u001b[0m\u001b[0mkwargs\u001b[0m\u001b[0;34m)\u001b[0m\u001b[0;34m:\u001b[0m\u001b[0;34m\u001b[0m\u001b[0m\n\u001b[1;32m    406\u001b[0m         \u001b[0;32mif\u001b[0m \u001b[0mchannels\u001b[0m \u001b[0;32mis\u001b[0m \u001b[0;32mNone\u001b[0m\u001b[0;34m:\u001b[0m\u001b[0;34m\u001b[0m\u001b[0m\n\u001b[0;32m--> 407\u001b[0;31m             \u001b[0mitems\u001b[0m \u001b[0;34m=\u001b[0m \u001b[0mlist\u001b[0m\u001b[0;34m(\u001b[0m\u001b[0minh\u001b[0m\u001b[0;34m.\u001b[0m\u001b[0mitems\u001b[0m\u001b[0;34m(\u001b[0m\u001b[0;34m)\u001b[0m\u001b[0;34m)\u001b[0m\u001b[0;34m\u001b[0m\u001b[0m\n\u001b[0m\u001b[1;32m    408\u001b[0m         \u001b[0;32melse\u001b[0m\u001b[0;34m:\u001b[0m\u001b[0;34m\u001b[0m\u001b[0m\n\u001b[1;32m    409\u001b[0m             \u001b[0mitems\u001b[0m \u001b[0;34m=\u001b[0m \u001b[0;34m[\u001b[0m\u001b[0;34m(\u001b[0m\u001b[0mkey\u001b[0m\u001b[0;34m,\u001b[0m \u001b[0minh\u001b[0m\u001b[0;34m[\u001b[0m\u001b[0mkey\u001b[0m\u001b[0;34m]\u001b[0m\u001b[0;34m)\u001b[0m \u001b[0;32mfor\u001b[0m \u001b[0mkey\u001b[0m \u001b[0;32min\u001b[0m \u001b[0mchannels\u001b[0m\u001b[0;34m]\u001b[0m\u001b[0;34m\u001b[0m\u001b[0m\n",
      "\u001b[0;32m/home/tcvanleth/anaconda3/lib/python3.5/site-packages/h5py/_hl/base.py\u001b[0m in \u001b[0;36m__iter__\u001b[0;34m(self)\u001b[0m\n\u001b[1;32m    336\u001b[0m         \u001b[0;32mwith\u001b[0m \u001b[0mphil\u001b[0m\u001b[0;34m:\u001b[0m\u001b[0;34m\u001b[0m\u001b[0m\n\u001b[1;32m    337\u001b[0m             \u001b[0;32mfor\u001b[0m \u001b[0mkey\u001b[0m \u001b[0;32min\u001b[0m \u001b[0mself\u001b[0m\u001b[0;34m.\u001b[0m\u001b[0m_mapping\u001b[0m\u001b[0;34m:\u001b[0m\u001b[0;34m\u001b[0m\u001b[0m\n\u001b[0;32m--> 338\u001b[0;31m                 \u001b[0;32myield\u001b[0m \u001b[0;34m(\u001b[0m\u001b[0mkey\u001b[0m\u001b[0;34m,\u001b[0m \u001b[0mself\u001b[0m\u001b[0;34m.\u001b[0m\u001b[0m_mapping\u001b[0m\u001b[0;34m.\u001b[0m\u001b[0mget\u001b[0m\u001b[0;34m(\u001b[0m\u001b[0mkey\u001b[0m\u001b[0;34m)\u001b[0m\u001b[0;34m)\u001b[0m\u001b[0;34m\u001b[0m\u001b[0m\n\u001b[0m\u001b[1;32m    339\u001b[0m \u001b[0;34m\u001b[0m\u001b[0m\n\u001b[1;32m    340\u001b[0m \u001b[0;34m\u001b[0m\u001b[0m\n",
      "\u001b[0;32m/home/tcvanleth/anaconda3/lib/python3.5/site-packages/h5py/_hl/group.py\u001b[0m in \u001b[0;36mget\u001b[0;34m(self, name, default, getclass, getlink)\u001b[0m\n\u001b[1;32m    205\u001b[0m             \u001b[0;32mif\u001b[0m \u001b[0;32mnot\u001b[0m \u001b[0;34m(\u001b[0m\u001b[0mgetclass\u001b[0m \u001b[0;32mor\u001b[0m \u001b[0mgetlink\u001b[0m\u001b[0;34m)\u001b[0m\u001b[0;34m:\u001b[0m\u001b[0;34m\u001b[0m\u001b[0m\n\u001b[1;32m    206\u001b[0m                 \u001b[0;32mtry\u001b[0m\u001b[0;34m:\u001b[0m\u001b[0;34m\u001b[0m\u001b[0m\n\u001b[0;32m--> 207\u001b[0;31m                     \u001b[0;32mreturn\u001b[0m \u001b[0mself\u001b[0m\u001b[0;34m[\u001b[0m\u001b[0mname\u001b[0m\u001b[0;34m]\u001b[0m\u001b[0;34m\u001b[0m\u001b[0m\n\u001b[0m\u001b[1;32m    208\u001b[0m                 \u001b[0;32mexcept\u001b[0m \u001b[0mKeyError\u001b[0m\u001b[0;34m:\u001b[0m\u001b[0;34m\u001b[0m\u001b[0m\n\u001b[1;32m    209\u001b[0m                     \u001b[0;32mreturn\u001b[0m \u001b[0mdefault\u001b[0m\u001b[0;34m\u001b[0m\u001b[0m\n",
      "\u001b[0;32mh5py/_objects.pyx\u001b[0m in \u001b[0;36mh5py._objects.with_phil.wrapper (/home/ilan/minonda/conda-bld/work/h5py/_objects.c:2696)\u001b[0;34m()\u001b[0m\n",
      "\u001b[0;32mh5py/_objects.pyx\u001b[0m in \u001b[0;36mh5py._objects.with_phil.wrapper (/home/ilan/minonda/conda-bld/work/h5py/_objects.c:2654)\u001b[0;34m()\u001b[0m\n",
      "\u001b[0;32m/home/tcvanleth/anaconda3/lib/python3.5/site-packages/h5py/_hl/group.py\u001b[0m in \u001b[0;36m__getitem__\u001b[0;34m(self, name)\u001b[0m\n\u001b[1;32m    164\u001b[0m                 \u001b[0;32mraise\u001b[0m \u001b[0mValueError\u001b[0m\u001b[0;34m(\u001b[0m\u001b[0;34m\"Invalid HDF5 object reference\"\u001b[0m\u001b[0;34m)\u001b[0m\u001b[0;34m\u001b[0m\u001b[0m\n\u001b[1;32m    165\u001b[0m         \u001b[0;32melse\u001b[0m\u001b[0;34m:\u001b[0m\u001b[0;34m\u001b[0m\u001b[0m\n\u001b[0;32m--> 166\u001b[0;31m             \u001b[0moid\u001b[0m \u001b[0;34m=\u001b[0m \u001b[0mh5o\u001b[0m\u001b[0;34m.\u001b[0m\u001b[0mopen\u001b[0m\u001b[0;34m(\u001b[0m\u001b[0mself\u001b[0m\u001b[0;34m.\u001b[0m\u001b[0mid\u001b[0m\u001b[0;34m,\u001b[0m \u001b[0mself\u001b[0m\u001b[0;34m.\u001b[0m\u001b[0m_e\u001b[0m\u001b[0;34m(\u001b[0m\u001b[0mname\u001b[0m\u001b[0;34m)\u001b[0m\u001b[0;34m,\u001b[0m \u001b[0mlapl\u001b[0m\u001b[0;34m=\u001b[0m\u001b[0mself\u001b[0m\u001b[0;34m.\u001b[0m\u001b[0m_lapl\u001b[0m\u001b[0;34m)\u001b[0m\u001b[0;34m\u001b[0m\u001b[0m\n\u001b[0m\u001b[1;32m    167\u001b[0m \u001b[0;34m\u001b[0m\u001b[0m\n\u001b[1;32m    168\u001b[0m         \u001b[0motype\u001b[0m \u001b[0;34m=\u001b[0m \u001b[0mh5i\u001b[0m\u001b[0;34m.\u001b[0m\u001b[0mget_type\u001b[0m\u001b[0;34m(\u001b[0m\u001b[0moid\u001b[0m\u001b[0;34m)\u001b[0m\u001b[0;34m\u001b[0m\u001b[0m\n",
      "\u001b[0;31mKeyboardInterrupt\u001b[0m: "
     ]
    }
   ],
   "source": [
    "times = slice(np.datetime64('2015-07-01'), np.datetime64('2015-07-08'))\n",
    "ldat = io.import_ds('link_l2', 'WURex14', proID='link_test1')"
   ]
  },
  {
   "cell_type": "code",
   "execution_count": 3,
   "metadata": {
    "collapsed": false
   },
   "outputs": [],
   "source": [
    "pdat = io.import_ds('pars_l2', 'WURex14', proID='pars_test1', times=times)"
   ]
  },
  {
   "cell_type": "code",
   "execution_count": 4,
   "metadata": {
    "collapsed": true
   },
   "outputs": [],
   "source": [
    "adat = io.import_ds('link_aux', 'WURex14', proID='pars_test1')"
   ]
  },
  {
   "cell_type": "code",
   "execution_count": 5,
   "metadata": {
    "collapsed": false
   },
   "outputs": [],
   "source": [
    "k_38v = ldat['ral_38', 'channel_1', 'k_mean']\n",
    "k_38h = ldat['ral_38', 'channel_2', 'k_mean']\n",
    "k_26 = ldat['ral_26', 'channel_1', 'k_mean']\n",
    "nokia = ldat['nokia', 'channel_1', 'k_mean']\n",
    "phi = ldat['ral_38', 'dpa_channel', 'phi_mean']\n",
    "#phi2 = pdat['forum_1', 'channel_1', 'phi'].sel(frequency=3.8e10)\n",
    "L = ldat['ral_38'].get_length()\n",
    "import numpy as np\n",
    "#phi = -phi\n",
    "#phi2 = -phi2"
   ]
  },
  {
   "cell_type": "code",
   "execution_count": 6,
   "metadata": {
    "collapsed": false
   },
   "outputs": [
    {
     "data": {
      "text/plain": [
       "<Array> variable\n",
       "dimensions:\n",
       "    time     *20160* datetime64[us] 2015-07-01 2015-07-01T00:00:30 ...\n",
       "coordinates:\n",
       "    *empty*\n",
       "variables:\n",
       "    k_mean   (time) float64 nan nan nan nan nan nan nan nan nan nan nan nan ...\n",
       "Attributes:\n",
       "    quanti...specific_attenuation\n",
       "    unit:    dB/km\n",
       "    sampli...mean\n",
       "    side:    receiver"
      ]
     },
     "execution_count": 6,
     "metadata": {},
     "output_type": "execute_result"
    }
   ],
   "source": [
    "k_38h"
   ]
  },
  {
   "cell_type": "code",
   "execution_count": 7,
   "metadata": {
    "collapsed": false
   },
   "outputs": [],
   "source": [
    "forum1 = pdat['forum_1', 'channel_1', 'precip']\n",
    "forum2 = pdat['forum_2', 'channel_1', 'precip']\n",
    "bongerd = pdat['bongerd', 'channel_1', 'precip']\n",
    "nvwa = pdat['nvwa', 'channel_1', 'precip']\n",
    "biotech = pdat['biotechnion', 'channel_1', 'precip']"
   ]
  },
  {
   "cell_type": "code",
   "execution_count": 8,
   "metadata": {
    "collapsed": false
   },
   "outputs": [
    {
     "ename": "KeyError",
     "evalue": "'parsivel'",
     "output_type": "error",
     "traceback": [
      "\u001b[0;31m---------------------------------------------------------------------------\u001b[0m",
      "\u001b[0;31mKeyError\u001b[0m                                  Traceback (most recent call last)",
      "\u001b[0;32m<ipython-input-8-7f17a8e7e00a>\u001b[0m in \u001b[0;36m<module>\u001b[0;34m()\u001b[0m\n\u001b[0;32m----> 1\u001b[0;31m \u001b[0mpars\u001b[0m \u001b[0;34m=\u001b[0m \u001b[0madat\u001b[0m\u001b[0;34m[\u001b[0m\u001b[0;34m'parsivel'\u001b[0m\u001b[0;34m,\u001b[0m \u001b[0;34m'channel_1'\u001b[0m\u001b[0;34m,\u001b[0m \u001b[0;34m'k_v38'\u001b[0m\u001b[0;34m]\u001b[0m\u001b[0;34m\u001b[0m\u001b[0m\n\u001b[0m",
      "\u001b[0;32m/home/tcvanleth/Code/harray/container_common.py\u001b[0m in \u001b[0;36m__getitem__\u001b[0;34m(self, key)\u001b[0m\n\u001b[1;32m    529\u001b[0m                 \u001b[0;32mreturn\u001b[0m \u001b[0mnew\u001b[0m\u001b[0;34m\u001b[0m\u001b[0m\n\u001b[1;32m    530\u001b[0m             \u001b[0;32melse\u001b[0m\u001b[0;34m:\u001b[0m\u001b[0;34m\u001b[0m\u001b[0m\n\u001b[0;32m--> 531\u001b[0;31m                 \u001b[0;32mreturn\u001b[0m \u001b[0mself\u001b[0m\u001b[0;34m.\u001b[0m\u001b[0mstations\u001b[0m\u001b[0;34m[\u001b[0m\u001b[0mkey\u001b[0m\u001b[0;34m[\u001b[0m\u001b[0;36m0\u001b[0m\u001b[0;34m]\u001b[0m\u001b[0;34m]\u001b[0m\u001b[0;34m[\u001b[0m\u001b[0mkey\u001b[0m\u001b[0;34m[\u001b[0m\u001b[0;36m1\u001b[0m\u001b[0;34m:\u001b[0m\u001b[0;34m]\u001b[0m\u001b[0;34m]\u001b[0m\u001b[0;34m\u001b[0m\u001b[0m\n\u001b[0m\u001b[1;32m    532\u001b[0m         \u001b[0;32melse\u001b[0m\u001b[0;34m:\u001b[0m\u001b[0;34m\u001b[0m\u001b[0m\n\u001b[1;32m    533\u001b[0m             \u001b[0;32mreturn\u001b[0m \u001b[0mself\u001b[0m\u001b[0;34m.\u001b[0m\u001b[0mstations\u001b[0m\u001b[0;34m[\u001b[0m\u001b[0mkey\u001b[0m\u001b[0;34m]\u001b[0m\u001b[0;34m\u001b[0m\u001b[0m\n",
      "\u001b[0;31mKeyError\u001b[0m: 'parsivel'"
     ]
    }
   ],
   "source": [
    "pars = adat['parsivel', 'channel_1', 'k_v38']"
   ]
  },
  {
   "cell_type": "code",
   "execution_count": 9,
   "metadata": {
    "collapsed": false
   },
   "outputs": [
    {
     "ename": "KeyError",
     "evalue": "'parsivel'",
     "output_type": "error",
     "traceback": [
      "\u001b[0;31m---------------------------------------------------------------------------\u001b[0m",
      "\u001b[0;31mKeyError\u001b[0m                                  Traceback (most recent call last)",
      "\u001b[0;32m<ipython-input-9-f66888b1f8af>\u001b[0m in \u001b[0;36m<module>\u001b[0;34m()\u001b[0m\n\u001b[0;32m----> 1\u001b[0;31m \u001b[0mmeanr\u001b[0m \u001b[0;34m=\u001b[0m \u001b[0madat\u001b[0m\u001b[0;34m[\u001b[0m\u001b[0;34m'parsivel'\u001b[0m\u001b[0;34m,\u001b[0m \u001b[0;34m'channel_1'\u001b[0m\u001b[0;34m,\u001b[0m \u001b[0;34m'precip'\u001b[0m\u001b[0;34m]\u001b[0m\u001b[0;34m\u001b[0m\u001b[0m\n\u001b[0m\u001b[1;32m      2\u001b[0m \u001b[0mmoving\u001b[0m \u001b[0;34m=\u001b[0m \u001b[0muf\u001b[0m\u001b[0;34m.\u001b[0m\u001b[0mrolling\u001b[0m\u001b[0;34m(\u001b[0m\u001b[0mmeanr\u001b[0m\u001b[0;34m,\u001b[0m \u001b[0mn\u001b[0m\u001b[0;34m=\u001b[0m\u001b[0;36m21\u001b[0m\u001b[0;34m)\u001b[0m\u001b[0;34m\u001b[0m\u001b[0m\n\u001b[1;32m      3\u001b[0m \u001b[0mmoving\u001b[0m\u001b[0;34m.\u001b[0m\u001b[0mindexes\u001b[0m\u001b[0;34m[\u001b[0m\u001b[0;34m'time'\u001b[0m\u001b[0;34m]\u001b[0m \u001b[0;34m=\u001b[0m \u001b[0mmoving\u001b[0m\u001b[0;34m.\u001b[0m\u001b[0mindexes\u001b[0m\u001b[0;34m[\u001b[0m\u001b[0;34m'time'\u001b[0m\u001b[0;34m]\u001b[0m\u001b[0;34m.\u001b[0m\u001b[0misel\u001b[0m\u001b[0;34m(\u001b[0m\u001b[0mtime\u001b[0m\u001b[0;34m=\u001b[0m\u001b[0mslice\u001b[0m\u001b[0;34m(\u001b[0m\u001b[0;36m10\u001b[0m\u001b[0;34m,\u001b[0m\u001b[0;34m-\u001b[0m\u001b[0;36m10\u001b[0m\u001b[0;34m)\u001b[0m\u001b[0;34m)\u001b[0m\u001b[0;34m\u001b[0m\u001b[0m\n\u001b[1;32m      4\u001b[0m \u001b[0mprint\u001b[0m\u001b[0;34m(\u001b[0m\u001b[0mmoving\u001b[0m\u001b[0;34m.\u001b[0m\u001b[0mshape\u001b[0m\u001b[0;34m)\u001b[0m\u001b[0;34m\u001b[0m\u001b[0m\n\u001b[1;32m      5\u001b[0m \u001b[0mprint\u001b[0m\u001b[0;34m(\u001b[0m\u001b[0mmoving\u001b[0m\u001b[0;34m[\u001b[0m\u001b[0;34m'time'\u001b[0m\u001b[0;34m]\u001b[0m\u001b[0;34m.\u001b[0m\u001b[0mshape\u001b[0m\u001b[0;34m)\u001b[0m\u001b[0;34m\u001b[0m\u001b[0m\n",
      "\u001b[0;32m/home/tcvanleth/Code/harray/container_common.py\u001b[0m in \u001b[0;36m__getitem__\u001b[0;34m(self, key)\u001b[0m\n\u001b[1;32m    529\u001b[0m                 \u001b[0;32mreturn\u001b[0m \u001b[0mnew\u001b[0m\u001b[0;34m\u001b[0m\u001b[0m\n\u001b[1;32m    530\u001b[0m             \u001b[0;32melse\u001b[0m\u001b[0;34m:\u001b[0m\u001b[0;34m\u001b[0m\u001b[0m\n\u001b[0;32m--> 531\u001b[0;31m                 \u001b[0;32mreturn\u001b[0m \u001b[0mself\u001b[0m\u001b[0;34m.\u001b[0m\u001b[0mstations\u001b[0m\u001b[0;34m[\u001b[0m\u001b[0mkey\u001b[0m\u001b[0;34m[\u001b[0m\u001b[0;36m0\u001b[0m\u001b[0;34m]\u001b[0m\u001b[0;34m]\u001b[0m\u001b[0;34m[\u001b[0m\u001b[0mkey\u001b[0m\u001b[0;34m[\u001b[0m\u001b[0;36m1\u001b[0m\u001b[0;34m:\u001b[0m\u001b[0;34m]\u001b[0m\u001b[0;34m]\u001b[0m\u001b[0;34m\u001b[0m\u001b[0m\n\u001b[0m\u001b[1;32m    532\u001b[0m         \u001b[0;32melse\u001b[0m\u001b[0;34m:\u001b[0m\u001b[0;34m\u001b[0m\u001b[0m\n\u001b[1;32m    533\u001b[0m             \u001b[0;32mreturn\u001b[0m \u001b[0mself\u001b[0m\u001b[0;34m.\u001b[0m\u001b[0mstations\u001b[0m\u001b[0;34m[\u001b[0m\u001b[0mkey\u001b[0m\u001b[0;34m]\u001b[0m\u001b[0;34m\u001b[0m\u001b[0m\n",
      "\u001b[0;31mKeyError\u001b[0m: 'parsivel'"
     ]
    }
   ],
   "source": [
    "meanr = adat['parsivel', 'channel_1', 'precip']\n",
    "moving = uf.rolling(meanr, n=21)\n",
    "moving.indexes['time'] = moving.indexes['time'].isel(time=slice(10,-10))\n",
    "print(moving.shape)\n",
    "print(moving['time'].shape)"
   ]
  },
  {
   "cell_type": "code",
   "execution_count": 10,
   "metadata": {
    "collapsed": false
   },
   "outputs": [
    {
     "ename": "TypeError",
     "evalue": "'AxesSubplot' object does not support indexing",
     "output_type": "error",
     "traceback": [
      "\u001b[0;31m---------------------------------------------------------------------------\u001b[0m",
      "\u001b[0;31mTypeError\u001b[0m                                 Traceback (most recent call last)",
      "\u001b[0;32m<ipython-input-10-9edccabb10ae>\u001b[0m in \u001b[0;36m<module>\u001b[0;34m()\u001b[0m\n\u001b[1;32m      1\u001b[0m \u001b[0mfig\u001b[0m\u001b[0;34m,\u001b[0m \u001b[0max\u001b[0m \u001b[0;34m=\u001b[0m \u001b[0mplt\u001b[0m\u001b[0;34m.\u001b[0m\u001b[0msubplots\u001b[0m\u001b[0;34m(\u001b[0m\u001b[0;34m)\u001b[0m\u001b[0;34m\u001b[0m\u001b[0m\n\u001b[0;32m----> 2\u001b[0;31m \u001b[0mpl\u001b[0m\u001b[0;34m.\u001b[0m\u001b[0mlineplot\u001b[0m\u001b[0;34m(\u001b[0m\u001b[0max\u001b[0m\u001b[0;34m[\u001b[0m\u001b[0;36m0\u001b[0m\u001b[0;34m]\u001b[0m\u001b[0;34m,\u001b[0m \u001b[0mk_38h\u001b[0m\u001b[0;34m,\u001b[0m \u001b[0;34m'k RAL freq: 38GHz pol: H'\u001b[0m\u001b[0;34m)\u001b[0m\u001b[0;34m\u001b[0m\u001b[0m\n\u001b[0m\u001b[1;32m      3\u001b[0m \u001b[0mpl\u001b[0m\u001b[0;34m.\u001b[0m\u001b[0mlineplot\u001b[0m\u001b[0;34m(\u001b[0m\u001b[0max\u001b[0m\u001b[0;34m[\u001b[0m\u001b[0;36m0\u001b[0m\u001b[0;34m]\u001b[0m\u001b[0;34m,\u001b[0m \u001b[0mk_38v\u001b[0m\u001b[0;34m,\u001b[0m \u001b[0;34m'k RAL freq: 38GHz pol: V'\u001b[0m\u001b[0;34m)\u001b[0m\u001b[0;34m\u001b[0m\u001b[0m\n\u001b[1;32m      4\u001b[0m \u001b[0mpl\u001b[0m\u001b[0;34m.\u001b[0m\u001b[0mlineplot\u001b[0m\u001b[0;34m(\u001b[0m\u001b[0max\u001b[0m\u001b[0;34m[\u001b[0m\u001b[0;36m0\u001b[0m\u001b[0;34m]\u001b[0m\u001b[0;34m,\u001b[0m \u001b[0mk_26\u001b[0m\u001b[0;34m,\u001b[0m \u001b[0;34m'k RAL freq: 26GHz pol: H'\u001b[0m\u001b[0;34m)\u001b[0m\u001b[0;34m\u001b[0m\u001b[0m\n\u001b[1;32m      5\u001b[0m \u001b[0mpl\u001b[0m\u001b[0;34m.\u001b[0m\u001b[0mlineplot\u001b[0m\u001b[0;34m(\u001b[0m\u001b[0max\u001b[0m\u001b[0;34m[\u001b[0m\u001b[0;36m0\u001b[0m\u001b[0;34m]\u001b[0m\u001b[0;34m,\u001b[0m \u001b[0mnokia\u001b[0m\u001b[0;34m,\u001b[0m \u001b[0;34m'k Nokia freq: 38GHz pol: V'\u001b[0m\u001b[0;34m)\u001b[0m\u001b[0;34m\u001b[0m\u001b[0m\n",
      "\u001b[0;31mTypeError\u001b[0m: 'AxesSubplot' object does not support indexing"
     ]
    }
   ],
   "source": [
    "fig, ax = plt.subplots()\n",
    "pl.lineplot(ax[0], k_38h, 'k RAL freq: 38GHz pol: H')\n",
    "pl.lineplot(ax[0], k_38v, 'k RAL freq: 38GHz pol: V')\n",
    "pl.lineplot(ax[0], k_26, 'k RAL freq: 26GHz pol: H')\n",
    "pl.lineplot(ax[0], nokia, 'k Nokia freq: 38GHz pol: V')\n",
    "pl.lineplot(ax[0], pdat['forum_1', 'channel_1', 'k'].sel(frequency=3.8e10, polarization='H'), 'forum')\n",
    "pl.lineplot(ax[0], pdat['forum_1', 'channel_1', 'k'].sel(frequency=2.6e10, polarization='H', how='nearest'), 'forum2')\n",
    "\n",
    "\n",
    "ax2 = ax[0].twinx()\n",
    "#pl.lineplot(ax2, phi, 'dpa RAL freq: 38GHz', 'black')\n",
    "#pl.lineplot(ax2, phi2, 'phi forum', 'orange')\n",
    "ax2.set_ylim(0, 0.12)\n",
    "\n",
    "ax[0].set_xlabel('time')\n",
    "ax[0].set_ylabel('specific attenuation (dB/km)')\n",
    "ax[0].set_ylim(0, 4)\n",
    "ax[0].set_title('Link attenuation')\n",
    "plt.grid=True\n",
    "\n",
    "lines, labels = ax[0].get_legend_handles_labels()\n",
    "lines2, labels2 = ax2.get_legend_handles_labels()\n",
    "ax2.legend(lines + lines2, labels + labels2, loc=0)\n",
    "plt.show()\n"
   ]
  },
  {
   "cell_type": "code",
   "execution_count": null,
   "metadata": {
    "collapsed": false
   },
   "outputs": [],
   "source": [
    "pl.lineplot(ax[1], pdat['forum_1', 'channel_1', 'precip'], 'forum_1')\n",
    "pl.lineplot(ax[1], ldat['nokia', 'channel_1', 'precip_mean'], 'nokia')\n",
    "pl.lineplot(ax[1], ldat['ral_38', 'channel_1', 'precip_mean'], 'ral_38_v')\n",
    "pl.lineplot(ax[1], ldat['ral_38', 'channel_2', 'precip_mean'], 'ral_38_h')\n",
    "pl.lineplot(ax[1], ldat['ral_26', 'channel_1', 'precip_mean'], 'ral_26')\n",
    "pl.lineplot(ax[1], ldat['ral_38', 'dpa_channel', 'precip_mean'], 'phi')\n",
    "\n",
    "ax[1].legend()\n",
    "ax[1].set_xlabel('time')\n",
    "ax[1].set_ylabel('rain intensity (mm/hr)')\n",
    "ax[1].set_ylim(0, 30)\n",
    "ax[1].set_title('Disdrometer derived rain intensity: 14 July 2015')\n",
    "plt.grid=True\n",
    "plt.show()"
   ]
  },
  {
   "cell_type": "markdown",
   "metadata": {},
   "source": [
    "## timeseries\n",
    "### Case 1: 14 July 2015"
   ]
  },
  {
   "cell_type": "code",
   "execution_count": null,
   "metadata": {
    "collapsed": false,
    "scrolled": false
   },
   "outputs": [],
   "source": [
    "fig, ax = plt.subplots(2,1)\n",
    "pl.lineplot(ax[0], k_38h, 'k RAL freq: 38GHz pol: H')\n",
    "pl.lineplot(ax[0], k_38v, 'k RAL freq: 38GHz pol: V')\n",
    "pl.lineplot(ax[0], k_26, 'k RAL freq: 26GHz pol: H')\n",
    "pl.lineplot(ax[0], nokia, 'k Nokia freq: 38GHz pol: V')\n",
    "\n",
    "ax2 = ax[0].twinx()\n",
    "pl.lineplot(ax2, phi, 'dpa RAL freq: 38GHz', 'm')\n",
    "ax2.set_ylim(1.12, 1)\n",
    "\n",
    "ax[0].set_xlabel('time')\n",
    "ax[0].set_ylabel('specific attenuation (dB/km)')\n",
    "ax[0].set_xlim('2015-07-14 11:30', '2015-07-14 12:30')\n",
    "ax[0].set_ylim(0, 4)\n",
    "ax[0].set_title('Link attenuation: 14 July 2015')\n",
    "plt.grid=True\n",
    "\n",
    "lines, labels = ax[0].get_legend_handles_labels()\n",
    "lines2, labels2 = ax2.get_legend_handles_labels()\n",
    "ax2.legend(lines + lines2, labels + labels2, loc=0)\n",
    "\n",
    "plt.show()"
   ]
  },
  {
   "cell_type": "code",
   "execution_count": null,
   "metadata": {
    "collapsed": true
   },
   "outputs": [],
   "source": [
    "pl.lineplot(ax[1], pdat['forum_1', 'channel_1', 'precip'], 'forum_1')\n",
    "pl.lineplot(ax[1], pdat['forum_2', 'channel_1', 'precip'], 'forum_2')\n",
    "pl.lineplot(ax[1], pdat['bongerd', 'channel_1', 'precip'], 'bongerd')\n",
    "pl.lineplot(ax[1], pdat['nvwa', 'channel_1', 'precip'], 'nvwa')\n",
    "pl.lineplot(ax[1], pdat['biotechnion', 'channel_1', 'precip'], 'biotechnion')\n",
    "\n",
    "ax[1].legend()\n",
    "ax[1].set_xlabel('time')\n",
    "ax[1].set_ylabel('rain intensity (mm/hr)')\n",
    "ax[1].set_xlim('2015-07-14 11:30', '2015-07-14 12:30')\n",
    "ax[1].set_ylim(0, 30)\n",
    "ax[1].set_title('Disdrometer derived rain intensity: 14 July 2015')\n",
    "plt.grid=True\n",
    "plt.tight_layout()"
   ]
  },
  {
   "cell_type": "markdown",
   "metadata": {},
   "source": [
    "### Case 2: 19 July 2015"
   ]
  },
  {
   "cell_type": "code",
   "execution_count": null,
   "metadata": {
    "collapsed": true
   },
   "outputs": [],
   "source": [
    "fig, ax = plt.subplots(2,1)\n",
    "pl.lineplot(ax[0], k_38h, 'k RAL freq: 38GHz pol: H')\n",
    "pl.lineplot(ax[0], k_38v, 'k RAL freq: 38GHz pol: V')\n",
    "pl.lineplot(ax[0], k_26, 'k RAL freq: 26GHz pol: H')\n",
    "pl.lineplot(ax[0], nokia, 'k Nokia freq: 38GHz pol: V')\n",
    "\n",
    "ax2 = ax[0].twinx()\n",
    "pl.lineplot(ax2, phi, 'dpa RAL freq: 38GHz', 'm')\n",
    "ax2.set_ylim(1.12, 1)\n",
    "\n",
    "ax[0].set_xlabel('time')\n",
    "ax[0].set_ylabel('specific attenuation (dB/km)')\n",
    "ax[0].set_xlim('2015-07-18 22:00', '2015-07-19 22:00')\n",
    "ax[0].set_ylim(0, 4)\n",
    "ax[0].set_title('Link attenuation: 19 July 2015')\n",
    "plt.grid=True\n",
    "\n",
    "lines, labels = ax[0].get_legend_handles_labels()\n",
    "lines2, labels2 = ax2.get_legend_handles_labels()\n",
    "ax2.legend(lines + lines2, labels + labels2, loc=0)\n",
    "\n",
    "pl.lineplot(ax[1], pdat['forum_1', 'channel_1', 'precip'], 'forum_1')\n",
    "pl.lineplot(ax[1], pdat['forum_2', 'channel_1', 'precip'], 'forum_2')\n",
    "pl.lineplot(ax[1], pdat['bongerd', 'channel_1', 'precip'], 'bongerd')\n",
    "pl.lineplot(ax[1], pdat['nvwa', 'channel_1', 'precip'], 'nvwa')\n",
    "pl.lineplot(ax[1], pdat['biotechnion', 'channel_1', 'precip'], 'biotechnion')\n",
    "\n",
    "ax[1].legend()\n",
    "ax[1].set_xlabel('time')\n",
    "ax[1].set_ylabel('rain intensity (mm/hr)')\n",
    "ax[1].set_xlim('2015-07-18 22:00', '2015-07-19 22:00')\n",
    "ax[1].set_ylim(0, 30)\n",
    "ax[1].set_title('Disdrometer derived rain intensity: 19 July 2015')\n",
    "plt.grid=True\n",
    "plt.tight_layout()"
   ]
  },
  {
   "cell_type": "markdown",
   "metadata": {},
   "source": [
    "### Case 3: clutter"
   ]
  },
  {
   "cell_type": "code",
   "execution_count": null,
   "metadata": {
    "collapsed": false
   },
   "outputs": [],
   "source": [
    "fig, ax = plt.subplots(2,1)\n",
    "pl.lineplot(ax[0], k_38h, 'k RAL freq: 38GHz pol: H')\n",
    "pl.lineplot(ax[0], k_38v, 'k RAL freq: 38GHz pol: V')\n",
    "pl.lineplot(ax[0], k_26, 'k RAL freq: 26GHz pol: H')\n",
    "pl.lineplot(ax[0], nokia, 'k Nokia freq: 38GHz pol: V')\n",
    "\n",
    "ax2 = ax[0].twinx()\n",
    "pl.lineplot(ax2, phi, 'dpa RAL freq: 38GHz', 'm')\n",
    "ax2.set_ylim(1.15, 1)\n",
    "\n",
    "ax[0].set_xlabel('time')\n",
    "ax[0].set_ylabel('specific attenuation (dB/km)')\n",
    "ax[0].set_xlim('2015-05-11 00:00', '2015-05-13 00:00')\n",
    "ax[0].set_ylim(0, 4)\n",
    "ax[0].set_title('Link attenuation: 11-12 May 2015')\n",
    "plt.grid=True\n",
    "\n",
    "lines, labels = ax[0].get_legend_handles_labels()\n",
    "lines2, labels2 = ax2.get_legend_handles_labels()\n",
    "ax2.legend(lines + lines2, labels + labels2, loc=0)\n",
    "\n",
    "pl.lineplot(ax[1], pdat['forum_1', 'channel_1', 'precip'], 'forum_1')\n",
    "pl.lineplot(ax[1], pdat['forum_2', 'channel_1', 'precip'], 'forum_2')\n",
    "pl.lineplot(ax[1], pdat['bongerd', 'channel_1', 'precip'], 'bongerd')\n",
    "pl.lineplot(ax[1], pdat['nvwa', 'channel_1', 'precip'], 'nvwa')\n",
    "pl.lineplot(ax[1], pdat['biotechnion', 'channel_1', 'precip'], 'biotechnion')\n",
    "\n",
    "ax[1].legend()\n",
    "ax[1].set_xlabel('time')\n",
    "ax[1].set_ylabel('rain intensity (mm/hr)')\n",
    "ax[1].set_xlim('2015-05-11 00:00', '2015-05-13 00:00')\n",
    "ax[1].set_ylim(0, 30)\n",
    "ax[1].set_title('Disdrometer derived rain intensity: 11-12 May 2015')\n",
    "plt.grid=True\n",
    "plt.tight_layout()"
   ]
  },
  {
   "cell_type": "markdown",
   "metadata": {},
   "source": [
    "### case 4: Snow"
   ]
  },
  {
   "cell_type": "code",
   "execution_count": null,
   "metadata": {
    "collapsed": true
   },
   "outputs": [],
   "source": [
    "fig, ax = plt.subplots(2,1)\n",
    "pl.lineplot(ax[0], k_38h, 'k RAL freq: 38GHz pol: H')\n",
    "pl.lineplot(ax[0], k_38v, 'k RAL freq: 38GHz pol: V')\n",
    "pl.lineplot(ax[0], k_26, 'k RAL freq: 26GHz pol: H')\n",
    "pl.lineplot(ax[0], nokia, 'k Nokia freq: 38GHz pol: V')\n",
    "\n",
    "ax2 = ax[0].twinx()\n",
    "pl.lineplot(ax2, phi, 'dpa RAL freq: 38GHz', 'm')\n",
    "ax2.set_ylim(1.15, 1)\n",
    "\n",
    "ax[0].set_xlabel('time')\n",
    "ax[0].set_ylabel('specific attenuation (dB/km)')\n",
    "ax[0].set_xlim('2015-02-04 14:00', '2015-02-04 17:00')\n",
    "ax[0].set_ylim(0, 3)\n",
    "ax[0].set_title('Link attenuation: 4 February 2015')\n",
    "plt.grid=True\n",
    "\n",
    "lines, labels = ax[0].get_legend_handles_labels()\n",
    "lines2, labels2 = ax2.get_legend_handles_labels()\n",
    "ax2.legend(lines + lines2, labels + labels2, loc=0)\n",
    "\n",
    "pl.lineplot(ax[1], pdat['forum_1', 'channel_1', 'precip'], 'forum_1')\n",
    "\n",
    "ax[1].legend()\n",
    "ax[1].set_xlabel('time')\n",
    "ax[1].set_ylabel('rain intensity (mm/hr)')\n",
    "ax[1].set_xlim('2015-02-04 14:00', '2015-02-04 17:00')\n",
    "ax[1].set_ylim(0, 50)\n",
    "ax[1].set_title('Disdrometer derived rain intensity: 4 February 2015')\n",
    "plt.grid=True\n",
    "plt.tight_layout()"
   ]
  },
  {
   "cell_type": "markdown",
   "metadata": {},
   "source": [
    "### case 5: Fog"
   ]
  },
  {
   "cell_type": "code",
   "execution_count": null,
   "metadata": {
    "collapsed": true
   },
   "outputs": [],
   "source": [
    "fig, ax = plt.subplots(2,1)\n",
    "pl.lineplot(ax[0], k_38h, 'k RAL freq: 38GHz pol: H')\n",
    "pl.lineplot(ax[0], k_38v, 'k RAL freq: 38GHz pol: V')\n",
    "pl.lineplot(ax[0], k_26, 'k RAL freq: 26GHz pol: H')\n",
    "pl.lineplot(ax[0], nokia, 'k Nokia freq: 38GHz pol: V')\n",
    "\n",
    "ax2 = ax[0].twinx()\n",
    "pl.lineplot(ax2, phi, 'dpa RAL freq: 38GHz', 'm')\n",
    "ax2.set_ylim(1.15, 1)\n",
    "\n",
    "ax[0].set_xlabel('time')\n",
    "ax[0].set_ylabel('specific attenuation (dB/km)')\n",
    "ax[0].set_xlim('2015-11-08 00:00', '2015-11-09 00:00')\n",
    "ax[0].set_ylim(0, 3)\n",
    "ax[0].set_title('Link attenuation: 8 November 2015')\n",
    "plt.grid=True\n",
    "\n",
    "lines, labels = ax[0].get_legend_handles_labels()\n",
    "lines2, labels2 = ax2.get_legend_handles_labels()\n",
    "ax2.legend(lines + lines2, labels + labels2, loc=0)\n",
    "\n",
    "pl.lineplot(ax[1], pdat['forum_1', 'channel_1', 'precip'], 'forum_1')\n",
    "pl.lineplot(ax[1], pdat['forum_2', 'channel_1', 'precip'], 'forum_2')\n",
    "pl.lineplot(ax[1], pdat['bongerd', 'channel_1', 'precip'], 'bongerd')\n",
    "pl.lineplot(ax[1], pdat['nvwa', 'channel_1', 'precip'], 'nvwa')\n",
    "pl.lineplot(ax[1], pdat['biotechnion', 'channel_1', 'precip'], 'biotechnion')\n",
    "\n",
    "ax[1].legend()\n",
    "ax[1].set_xlabel('time')\n",
    "ax[1].set_ylabel('rain intensity (mm/hr)')\n",
    "ax[1].set_xlim('2015-11-08 00:00', '2015-11-09 00:00')\n",
    "ax[1].set_ylim(0, 30)\n",
    "ax[1].set_title('Disdrometer derived rain intensity: 8 November 2015')\n",
    "plt.grid=True\n",
    "plt.tight_layout()"
   ]
  },
  {
   "cell_type": "code",
   "execution_count": null,
   "metadata": {
    "collapsed": false
   },
   "outputs": [],
   "source": [
    "start = '2015-11-30 05:00'\n",
    "end = '2015-12-01 00:00'\n",
    "\n",
    "fig, ax = plt.subplots(2,1)\n",
    "pl.lineplot(ax[0], k_38h, 'k RAL freq: 38GHz pol: H')\n",
    "pl.lineplot(ax[0], k_38v, 'k RAL freq: 38GHz pol: V')\n",
    "pl.lineplot(ax[0], k_26, 'k RAL freq: 26GHz pol: H')\n",
    "pl.lineplot(ax[0], nokia, 'k Nokia freq: 38GHz pol: V')\n",
    "\n",
    "ax2 = ax[0].twinx()\n",
    "pl.lineplot(ax2, phi, 'dpa RAL freq: 38GHz', 'm')\n",
    "ax2.set_ylim(1.15, 1)\n",
    "\n",
    "ax[0].set_xlabel('time')\n",
    "ax[0].set_ylabel('specific attenuation (dB/km)')\n",
    "ax[0].set_xlim(start, end)\n",
    "ax[0].set_ylim(0, 5)\n",
    "ax[0].set_title('Link attenuation: 30 November - 1 November 2015')\n",
    "plt.grid=True\n",
    "\n",
    "lines, labels = ax[0].get_legend_handles_labels()\n",
    "lines2, labels2 = ax2.get_legend_handles_labels()\n",
    "ax2.legend(lines + lines2, labels + labels2, loc=0)\n",
    "\n",
    "pl.lineplot(ax[1], uf.cumsum(forum1.sel(time=slice(start, end)))/120, 'forum_1', alpha=0.5)\n",
    "pl.lineplot(ax[1], uf.cumsum(forum2[~np.isnan(forum2)].sel(time=slice(start, end)))/120, 'forum_2', alpha=0.5)\n",
    "pl.lineplot(ax[1], uf.cumsum(bongerd.sel(time=slice(start, end)))/120, 'bongerd', alpha=0.5)\n",
    "pl.lineplot(ax[1], uf.cumsum(nvwa.sel(time=slice(start, end)))/120, 'nvwa', alpha=0.5)\n",
    "pl.lineplot(ax[1], uf.cumsum(biotech.sel(time=slice(start, end)))/120, 'biotechnion', alpha=0.5)\n",
    "#pl.lineplot(ax[1], moving, 'mean', linewidth=5)\n",
    "\n",
    "ax[1].legend()\n",
    "ax[1].set_xlabel('time')\n",
    "ax[1].set_ylabel('rain intensity (mm/hr)')\n",
    "ax[1].set_xlim(start, end)\n",
    "ax[1].set_ylim(0, 50)\n",
    "ax[1].set_title('Disdrometer derived rain intensity: 30 November - 1 December 2015')\n",
    "plt.grid=True\n",
    "plt.tight_layout()"
   ]
  },
  {
   "cell_type": "code",
   "execution_count": null,
   "metadata": {
    "collapsed": true
   },
   "outputs": [],
   "source": [
    "fig, ax = plt.subplots(2,1)\n",
    "pl.lineplot(ax[0], k_38h, 'k RAL freq: 38GHz pol: H')\n",
    "pl.lineplot(ax[0], k_38v, 'k RAL freq: 38GHz pol: V')\n",
    "pl.lineplot(ax[0], k_26, 'k RAL freq: 26GHz pol: H')\n",
    "pl.lineplot(ax[0], nokia, 'k Nokia freq: 38GHz pol: V')\n",
    "\n",
    "ax2 = ax[0].twinx()\n",
    "pl.lineplot(ax2, phi, 'dpa RAL freq: 38GHz', 'm')\n",
    "ax2.set_ylim(1.15, 1)\n",
    "\n",
    "ax[0].set_xlabel('time')\n",
    "ax[0].set_ylabel('specific attenuation (dB/km)')\n",
    "ax[0].set_xlim('2015-12-01 05:00', '2015-12-02 05:00')\n",
    "ax[0].set_ylim(0, 3)\n",
    "ax[0].set_title('Link attenuation: 1 December 2015')\n",
    "plt.grid=True\n",
    "\n",
    "lines, labels = ax[0].get_legend_handles_labels()\n",
    "lines2, labels2 = ax2.get_legend_handles_labels()\n",
    "ax2.legend(lines + lines2, labels + labels2, loc=0)\n",
    "\n",
    "pl.lineplot(ax[1], pdat['forum_1', 'channel_1', 'precip'], 'forum_1')\n",
    "pl.lineplot(ax[1], pdat['forum_2', 'channel_1', 'precip'], 'forum_2')\n",
    "pl.lineplot(ax[1], pdat['bongerd', 'channel_1', 'precip'], 'bongerd')\n",
    "pl.lineplot(ax[1], pdat['nvwa', 'channel_1', 'precip'], 'nvwa')\n",
    "pl.lineplot(ax[1], pdat['biotechnion', 'channel_1', 'precip'], 'biotechnion')\n",
    "\n",
    "ax[1].legend()\n",
    "ax[1].set_xlabel('time')\n",
    "ax[1].set_ylabel('rain intensity (mm/hr)')\n",
    "ax[1].set_xlim('2015-12-01 05:00', '2015-12-02 05:00')\n",
    "ax[1].set_ylim(0, 30)\n",
    "ax[1].set_title('Disdrometer derived rain intensity: 1 December 2015')\n",
    "plt.grid=True\n",
    "plt.tight_layout()"
   ]
  },
  {
   "cell_type": "markdown",
   "metadata": {},
   "source": [
    "### Case 6: daily oscillation"
   ]
  },
  {
   "cell_type": "code",
   "execution_count": null,
   "metadata": {
    "collapsed": false
   },
   "outputs": [],
   "source": [
    "fig, ax = plt.subplots(2,1)\n",
    "pl.lineplot(ax[0], k_38h, 'k RAL freq: 38GHz pol: H')\n",
    "pl.lineplot(ax[0], k_38v, 'k RAL freq: 38GHz pol: V')\n",
    "pl.lineplot(ax[0], k_26, 'k RAL freq: 26GHz pol: H')\n",
    "pl.lineplot(ax[0], nokia, 'k Nokia freq: 38GHz pol: V')\n",
    "\n",
    "ax2 = ax[0].twinx()\n",
    "pl.lineplot(ax2, phi, 'dpa RAL freq: 38GHz', 'm')\n",
    "ax2.set_ylim(1.15, 1)\n",
    "\n",
    "ax[0].set_xlabel('time')\n",
    "ax[0].set_ylabel('specific attenuation (dB/km)')\n",
    "ax[0].set_xlim('2015-04-14 00:00', '2015-04-24 00:00')\n",
    "ax[0].set_ylim(0, 3)\n",
    "ax[0].set_title('Link attenuation: April 2015')\n",
    "plt.grid=True\n",
    "\n",
    "#lines, labels = ax[0].get_legend_handles_labels()\n",
    "#lines2, labels2 = ax2.get_legend_handles_labels()\n",
    "#ax2.legend(lines + lines2, labels + labels2, loc=0)\n",
    "\n",
    "pl.lineplot(ax[1], pdat['forum_1', 'channel_1', 'precip'], 'forum_1')\n",
    "pl.lineplot(ax[1], pdat['forum_2', 'channel_1', 'precip'], 'forum_2')\n",
    "pl.lineplot(ax[1], pdat['bongerd', 'channel_1', 'precip'], 'bongerd')\n",
    "pl.lineplot(ax[1], pdat['nvwa', 'channel_1', 'precip'], 'nvwa')\n",
    "pl.lineplot(ax[1], pdat['biotechnion', 'channel_1', 'precip'], 'biotechnion')\n",
    "pl.lineplot(ax[1], adat['parsivel', 'channel_1', 'precip'], 'mean')\n",
    "\n",
    "ax[1].legend()\n",
    "ax[1].set_xlabel('time')\n",
    "ax[1].set_ylabel('rain intensity (mm/hr)')\n",
    "ax[1].set_xlim('2015-04-14 00:00', '2015-04-24 00:00')\n",
    "ax[1].set_ylim(0, 30)\n",
    "ax[1].set_title('Disdrometer derived rain intensity: April 2015')\n",
    "plt.grid=True\n",
    "plt.tight_layout()"
   ]
  },
  {
   "cell_type": "code",
   "execution_count": null,
   "metadata": {
    "collapsed": false
   },
   "outputs": [],
   "source": [
    "plt.show()"
   ]
  },
  {
   "cell_type": "markdown",
   "metadata": {
    "collapsed": true
   },
   "source": [
    "# parsivel R versus link k"
   ]
  },
  {
   "cell_type": "code",
   "execution_count": null,
   "metadata": {
    "collapsed": false
   },
   "outputs": [],
   "source": [
    "x = ldat['nokia', 'channel_1', 'k_mean']\n",
    "y = adat['parsivel', 'channel_1', 'precip']\n",
    "#x = uf.log(x)\n",
    "#y = uf.log(y)\n",
    "x = x.reindex(y)\n",
    "mask = (~uf.isnan(x) & ~uf.isnan(y) & ~\n",
    "         uf.isinf(x) & ~uf.isinf(y))\n",
    "\n",
    "x = x[mask].values.compressed()\n",
    "y = y[mask].values.compressed()\n",
    "\n",
    "x1=x[(y<10) & (y>0) & (x<3)]\n",
    "y1=y[(y<10) & (y>0) & (x<3)]"
   ]
  },
  {
   "cell_type": "code",
   "execution_count": null,
   "metadata": {
    "collapsed": true
   },
   "outputs": [],
   "source": [
    "fig, ax = plt.subplots()\n",
    "H, xedges, yedges, img = plt.hist2d(x1, y1, (1000, 1000), \n",
    "                                    cmap=cm.hot)\n",
    "\n",
    "ax.set_xlabel('%s (%s)' % ('specific attenuation @ 38 GHz', 'dB/km'))\n",
    "ax.set_ylabel('%s (%s)' % ('rain intensity', 'mm/hr'))\n",
    "ax.set_title('all parsivels')\n",
    "def f(x, pos): return '{:0.2e}'.format(x)\n",
    "ax.xaxis.set_major_formatter(mpl.ticker.FuncFormatter(f))\n",
    "ax.yaxis.set_major_formatter(mpl.ticker.FuncFormatter(f))\n",
    "fig.colorbar(img, ax=ax)\n",
    "plt.tight_layout()\n",
    "plt.grid = True"
   ]
  },
  {
   "cell_type": "code",
   "execution_count": null,
   "metadata": {
    "collapsed": false
   },
   "outputs": [],
   "source": [
    "y2 = 3.368*x**1.031\n",
    "ax.plot(x, y2, 'b,')"
   ]
  },
  {
   "cell_type": "code",
   "execution_count": null,
   "metadata": {
    "collapsed": true
   },
   "outputs": [],
   "source": []
  },
  {
   "cell_type": "code",
   "execution_count": null,
   "metadata": {
    "collapsed": true
   },
   "outputs": [],
   "source": []
  }
 ],
 "metadata": {
  "anaconda-cloud": {},
  "kernelspec": {
   "display_name": "Python [default]",
   "language": "python",
   "name": "python3"
  },
  "language_info": {
   "codemirror_mode": {
    "name": "ipython",
    "version": 3
   },
   "file_extension": ".py",
   "mimetype": "text/x-python",
   "name": "python",
   "nbconvert_exporter": "python",
   "pygments_lexer": "ipython3",
   "version": "3.5.2"
  }
 },
 "nbformat": 4,
 "nbformat_minor": 0
}

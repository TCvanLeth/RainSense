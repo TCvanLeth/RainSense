{
 "cells": [
  {
   "cell_type": "markdown",
   "metadata": {},
   "source": [
    "# k_R relationships based on parsivel data\n",
    "\n",
    "## load data"
   ]
  },
  {
   "cell_type": "code",
   "execution_count": 4,
   "metadata": {
    "collapsed": false
   },
   "outputs": [],
   "source": [
    "import warnings\n",
    "warnings.filterwarnings('ignore')\n",
    "\n",
    "import importlib\n",
    "\n",
    "import mwlink.process.process_common as io\n",
    "io = importlib.reload(io)\n",
    "import mwlink.core.ufuncs as uf\n",
    "uf = importlib.reload(uf)\n",
    "import matplotlib.pyplot as plt\n",
    "from matplotlib import cm\n",
    "import matplotlib as mpl\n",
    "import mwlink.core.plotting_common as pl\n",
    "pl = importlib.reload(pl)\n",
    "\n",
    "from pylab import rcParams\n",
    "rcParams['figure.figsize'] = 16, 5"
   ]
  },
  {
   "cell_type": "code",
   "execution_count": 5,
   "metadata": {
    "collapsed": false
   },
   "outputs": [],
   "source": [
    "pdat = io.import_ds('pars_l2', 'WURex14', proID='pars_test1')"
   ]
  },
  {
   "cell_type": "markdown",
   "metadata": {},
   "source": [
    "## parsivel timeseries"
   ]
  },
  {
   "cell_type": "code",
   "execution_count": 6,
   "metadata": {
    "collapsed": false,
    "scrolled": true
   },
   "outputs": [],
   "source": [
    "k_38v = pdat.select(quantity='specific_attenuation', frequency=38E9, polarization='V')\n",
    "R = pdat.select(quantity='volume_flux')"
   ]
  },
  {
   "cell_type": "markdown",
   "metadata": {},
   "source": [
    "### parsivel derived attenuation\n",
    "Case 1: 14 July"
   ]
  },
  {
   "cell_type": "code",
   "execution_count": 7,
   "metadata": {
    "collapsed": false
   },
   "outputs": [
    {
     "ename": "KeyError",
     "evalue": "'k_v38'",
     "output_type": "error",
     "traceback": [
      "\u001b[1;31m---------------------------------------------------------------------------\u001b[0m",
      "\u001b[1;31mKeyError\u001b[0m                                  Traceback (most recent call last)",
      "\u001b[1;32m<ipython-input-7-144b9d3cf151>\u001b[0m in \u001b[0;36m<module>\u001b[1;34m()\u001b[0m\n\u001b[0;32m      1\u001b[0m \u001b[0mfig1\u001b[0m\u001b[1;33m,\u001b[0m \u001b[0max1\u001b[0m \u001b[1;33m=\u001b[0m \u001b[0mplt\u001b[0m\u001b[1;33m.\u001b[0m\u001b[0msubplots\u001b[0m\u001b[1;33m(\u001b[0m\u001b[1;33m)\u001b[0m\u001b[1;33m\u001b[0m\u001b[0m\n\u001b[1;32m----> 2\u001b[1;33m \u001b[0mpl\u001b[0m\u001b[1;33m.\u001b[0m\u001b[0mlineplot\u001b[0m\u001b[1;33m(\u001b[0m\u001b[0max1\u001b[0m\u001b[1;33m,\u001b[0m \u001b[0mpdat\u001b[0m\u001b[1;33m[\u001b[0m\u001b[1;34m'forum_1'\u001b[0m\u001b[1;33m,\u001b[0m \u001b[1;34m'channel_1'\u001b[0m\u001b[1;33m,\u001b[0m \u001b[1;34m'k_v38'\u001b[0m\u001b[1;33m]\u001b[0m\u001b[1;33m,\u001b[0m \u001b[1;34m'forum_1'\u001b[0m\u001b[1;33m)\u001b[0m\u001b[1;33m\u001b[0m\u001b[0m\n\u001b[0m\u001b[0;32m      3\u001b[0m \u001b[0mpl\u001b[0m\u001b[1;33m.\u001b[0m\u001b[0mlineplot\u001b[0m\u001b[1;33m(\u001b[0m\u001b[0max1\u001b[0m\u001b[1;33m,\u001b[0m \u001b[0mpdat\u001b[0m\u001b[1;33m[\u001b[0m\u001b[1;34m'forum_2'\u001b[0m\u001b[1;33m,\u001b[0m \u001b[1;34m'channel_1'\u001b[0m\u001b[1;33m,\u001b[0m \u001b[1;34m'k_v38'\u001b[0m\u001b[1;33m]\u001b[0m\u001b[1;33m,\u001b[0m \u001b[1;34m'forum_2'\u001b[0m\u001b[1;33m)\u001b[0m\u001b[1;33m\u001b[0m\u001b[0m\n\u001b[0;32m      4\u001b[0m \u001b[0mpl\u001b[0m\u001b[1;33m.\u001b[0m\u001b[0mlineplot\u001b[0m\u001b[1;33m(\u001b[0m\u001b[0max1\u001b[0m\u001b[1;33m,\u001b[0m \u001b[0mpdat\u001b[0m\u001b[1;33m[\u001b[0m\u001b[1;34m'bongerd'\u001b[0m\u001b[1;33m,\u001b[0m \u001b[1;34m'channel_1'\u001b[0m\u001b[1;33m,\u001b[0m \u001b[1;34m'k_v38'\u001b[0m\u001b[1;33m]\u001b[0m\u001b[1;33m,\u001b[0m \u001b[1;34m'bongerd'\u001b[0m\u001b[1;33m)\u001b[0m\u001b[1;33m\u001b[0m\u001b[0m\n\u001b[0;32m      5\u001b[0m \u001b[0mpl\u001b[0m\u001b[1;33m.\u001b[0m\u001b[0mlineplot\u001b[0m\u001b[1;33m(\u001b[0m\u001b[0max1\u001b[0m\u001b[1;33m,\u001b[0m \u001b[0mpdat\u001b[0m\u001b[1;33m[\u001b[0m\u001b[1;34m'nvwa'\u001b[0m\u001b[1;33m,\u001b[0m \u001b[1;34m'channel_1'\u001b[0m\u001b[1;33m,\u001b[0m \u001b[1;34m'k_v38'\u001b[0m\u001b[1;33m]\u001b[0m\u001b[1;33m,\u001b[0m \u001b[1;34m'nvwa'\u001b[0m\u001b[1;33m)\u001b[0m\u001b[1;33m\u001b[0m\u001b[0m\n",
      "\u001b[1;32m/home/tcvanleth/Code2/mwlink/core/container_common.py\u001b[0m in \u001b[0;36m__getitem__\u001b[1;34m(self, key)\u001b[0m\n\u001b[0;32m    482\u001b[0m                 \u001b[1;32mreturn\u001b[0m \u001b[0mnew\u001b[0m\u001b[1;33m\u001b[0m\u001b[0m\n\u001b[0;32m    483\u001b[0m             \u001b[1;32melse\u001b[0m\u001b[1;33m:\u001b[0m\u001b[1;33m\u001b[0m\u001b[0m\n\u001b[1;32m--> 484\u001b[1;33m                 \u001b[1;32mreturn\u001b[0m \u001b[0mself\u001b[0m\u001b[1;33m.\u001b[0m\u001b[0mstations\u001b[0m\u001b[1;33m[\u001b[0m\u001b[0mkey\u001b[0m\u001b[1;33m[\u001b[0m\u001b[1;36m0\u001b[0m\u001b[1;33m]\u001b[0m\u001b[1;33m]\u001b[0m\u001b[1;33m[\u001b[0m\u001b[0mkey\u001b[0m\u001b[1;33m[\u001b[0m\u001b[1;36m1\u001b[0m\u001b[1;33m:\u001b[0m\u001b[1;33m]\u001b[0m\u001b[1;33m]\u001b[0m\u001b[1;33m\u001b[0m\u001b[0m\n\u001b[0m\u001b[0;32m    485\u001b[0m         \u001b[1;32melse\u001b[0m\u001b[1;33m:\u001b[0m\u001b[1;33m\u001b[0m\u001b[0m\n\u001b[0;32m    486\u001b[0m             \u001b[1;32mreturn\u001b[0m \u001b[0mself\u001b[0m\u001b[1;33m.\u001b[0m\u001b[0mstations\u001b[0m\u001b[1;33m[\u001b[0m\u001b[0mkey\u001b[0m\u001b[1;33m]\u001b[0m\u001b[1;33m\u001b[0m\u001b[0m\n",
      "\u001b[1;32m/home/tcvanleth/Code2/mwlink/core/container_common.py\u001b[0m in \u001b[0;36m__getitem__\u001b[1;34m(self, key)\u001b[0m\n\u001b[0;32m    135\u001b[0m                 \u001b[1;32mreturn\u001b[0m \u001b[0mnew\u001b[0m\u001b[1;33m\u001b[0m\u001b[0m\n\u001b[0;32m    136\u001b[0m             \u001b[1;32melse\u001b[0m\u001b[1;33m:\u001b[0m\u001b[1;33m\u001b[0m\u001b[0m\n\u001b[1;32m--> 137\u001b[1;33m                 \u001b[1;32mreturn\u001b[0m \u001b[0mself\u001b[0m\u001b[1;33m.\u001b[0m\u001b[0mchannels\u001b[0m\u001b[1;33m[\u001b[0m\u001b[0mkey\u001b[0m\u001b[1;33m[\u001b[0m\u001b[1;36m0\u001b[0m\u001b[1;33m]\u001b[0m\u001b[1;33m]\u001b[0m\u001b[1;33m[\u001b[0m\u001b[0mkey\u001b[0m\u001b[1;33m[\u001b[0m\u001b[1;36m1\u001b[0m\u001b[1;33m]\u001b[0m\u001b[1;33m]\u001b[0m\u001b[1;33m\u001b[0m\u001b[0m\n\u001b[0m\u001b[0;32m    138\u001b[0m         \u001b[1;32melse\u001b[0m\u001b[1;33m:\u001b[0m\u001b[1;33m\u001b[0m\u001b[0m\n\u001b[0;32m    139\u001b[0m             \u001b[1;32mreturn\u001b[0m \u001b[0mself\u001b[0m\u001b[1;33m.\u001b[0m\u001b[0mchannels\u001b[0m\u001b[1;33m[\u001b[0m\u001b[0mkey\u001b[0m\u001b[1;33m]\u001b[0m\u001b[1;33m\u001b[0m\u001b[0m\n",
      "\u001b[1;32m/home/tcvanleth/Code2/mwlink/core/container_base.py\u001b[0m in \u001b[0;36m__getitem__\u001b[1;34m(self, keys)\u001b[0m\n\u001b[0;32m    298\u001b[0m                 \u001b[0mdims\u001b[0m\u001b[1;33m.\u001b[0m\u001b[0madd\u001b[0m\u001b[1;33m(\u001b[0m\u001b[0mvID\u001b[0m\u001b[1;33m)\u001b[0m\u001b[1;33m\u001b[0m\u001b[0m\n\u001b[0;32m    299\u001b[0m             \u001b[1;32melse\u001b[0m\u001b[1;33m:\u001b[0m\u001b[1;33m\u001b[0m\u001b[0m\n\u001b[1;32m--> 300\u001b[1;33m                 \u001b[1;32mraise\u001b[0m \u001b[0mKeyError\u001b[0m\u001b[1;33m(\u001b[0m\u001b[0mvID\u001b[0m\u001b[1;33m)\u001b[0m\u001b[1;33m\u001b[0m\u001b[0m\n\u001b[0m\u001b[0;32m    301\u001b[0m \u001b[1;33m\u001b[0m\u001b[0m\n\u001b[0;32m    302\u001b[0m         \u001b[0mdims\u001b[0m \u001b[1;33m=\u001b[0m \u001b[0mlist\u001b[0m\u001b[1;33m(\u001b[0m\u001b[0mdims\u001b[0m\u001b[1;33m)\u001b[0m\u001b[1;33m\u001b[0m\u001b[0m\n",
      "\u001b[1;31mKeyError\u001b[0m: 'k_v38'"
     ]
    }
   ],
   "source": [
    "fig1, ax1 = plt.subplots()\n",
    "pl.lineplot(ax1, pdat['forum_1', 'channel_1', 'k_v38'], 'forum_1')\n",
    "pl.lineplot(ax1, pdat['forum_2', 'channel_1', 'k_v38'], 'forum_2')\n",
    "pl.lineplot(ax1, pdat['bongerd', 'channel_1', 'k_v38'], 'bongerd')\n",
    "pl.lineplot(ax1, pdat['nvwa', 'channel_1', 'k_v38'], 'nvwa')\n",
    "pl.lineplot(ax1, pdat['biotechnion', 'channel_1', 'k_v38'], 'biotechnion')\n",
    "\n",
    "ax1.legend()\n",
    "ax1.set_xlabel('time')\n",
    "ax1.set_xlim('2015-07-14 10:00', '2015-07-14 18:00')\n",
    "ax1.set_ylim(0, 0.3)\n",
    "ax1.set_title('disdrometer derived link attenuation: 14 July')\n",
    "plt.grid=True\n",
    "plt.tight_layout()"
   ]
  },
  {
   "cell_type": "markdown",
   "metadata": {},
   "source": [
    "Case 2: 19 July"
   ]
  },
  {
   "cell_type": "code",
   "execution_count": 95,
   "metadata": {
    "collapsed": true
   },
   "outputs": [],
   "source": [
    "fig1, ax1 = plt.subplots()\n",
    "pl.lineplot(ax1, pdat['forum_1', 'channel_1', 'k_v38'], 'forum_1')\n",
    "pl.lineplot(ax1, pdat['forum_2', 'channel_1', 'k_v38'], 'forum_2')\n",
    "pl.lineplot(ax1, pdat['bongerd', 'channel_1', 'k_v38'], 'bongerd')\n",
    "pl.lineplot(ax1, pdat['nvwa', 'channel_1', 'k_v38'], 'nvwa')\n",
    "pl.lineplot(ax1, pdat['biotechnion', 'channel_1', 'k_v38'], 'biotechnion')\n",
    "\n",
    "ax1.legend()\n",
    "ax1.set_xlabel('time')\n",
    "ax1.set_xlim('2015-07-18 22:00', '2015-07-19 22:00')\n",
    "ax1.set_ylim(0, 0.3)\n",
    "ax1.set_title('disdrometer derived link attenuation: 19 July')\n",
    "plt.grid=True\n",
    "plt.tight_layout()"
   ]
  },
  {
   "cell_type": "markdown",
   "metadata": {},
   "source": [
    "Case 3:"
   ]
  },
  {
   "cell_type": "code",
   "execution_count": 96,
   "metadata": {
    "collapsed": false
   },
   "outputs": [],
   "source": [
    "fig1, ax1 = plt.subplots()\n",
    "pl.lineplot(ax1, pdat['forum_1', 'channel_1', 'k_v38'], 'forum_1')\n",
    "pl.lineplot(ax1, pdat['forum_2', 'channel_1', 'k_v38'], 'forum_2')\n",
    "pl.lineplot(ax1, pdat['bongerd', 'channel_1', 'k_v38'], 'bongerd')\n",
    "pl.lineplot(ax1, pdat['nvwa', 'channel_1', 'k_v38'], 'nvwa')\n",
    "pl.lineplot(ax1, pdat['biotechnion', 'channel_1', 'k_v38'], 'biotechnion')\n",
    "\n",
    "ax1.legend()\n",
    "ax1.set_xlabel('time')\n",
    "ax1.set_xlim('2015-04-25 03:00', '2015-04-25 11:00')\n",
    "ax1.set_ylim(0, 0.05)\n",
    "ax1.set_title('disdrometer derived link attenuation: 25 April')\n",
    "plt.grid=True\n",
    "plt.tight_layout()"
   ]
  },
  {
   "cell_type": "markdown",
   "metadata": {},
   "source": [
    "### parsivel derived rain intensity\n",
    "\n",
    "Case 1: 14 July"
   ]
  },
  {
   "cell_type": "code",
   "execution_count": 97,
   "metadata": {
    "collapsed": false
   },
   "outputs": [],
   "source": [
    "fig1, ax1 = plt.subplots()\n",
    "pl.lineplot(ax1, pdat['forum_1', 'channel_1', 'precip'], 'forum_1')\n",
    "pl.lineplot(ax1, pdat['forum_2', 'channel_1', 'precip'], 'forum_2')\n",
    "pl.lineplot(ax1, pdat['bongerd', 'channel_1', 'precip'], 'bongerd')\n",
    "pl.lineplot(ax1, pdat['nvwa', 'channel_1', 'precip'], 'nvwa')\n",
    "pl.lineplot(ax1, pdat['biotechnion', 'channel_1', 'precip'], 'biotechnion')\n",
    "\n",
    "ax1.legend()\n",
    "ax1.set_xlabel('time')\n",
    "ax1.set_xlim('2015-07-14 10:00', '2015-07-14 18:00')\n",
    "ax1.set_ylim(0, 30)\n",
    "ax1.set_title('disdrometer derived rain intensity: 14 July')\n",
    "plt.grid=True\n",
    "plt.tight_layout()"
   ]
  },
  {
   "cell_type": "markdown",
   "metadata": {},
   "source": [
    "Case 2: 19 July"
   ]
  },
  {
   "cell_type": "code",
   "execution_count": 98,
   "metadata": {
    "collapsed": true
   },
   "outputs": [],
   "source": [
    "fig1, ax1 = plt.subplots()\n",
    "pl.lineplot(ax1, pdat['forum_1', 'channel_1', 'precip'], 'forum_1')\n",
    "pl.lineplot(ax1, pdat['forum_2', 'channel_1', 'precip'], 'forum_2')\n",
    "pl.lineplot(ax1, pdat['bongerd', 'channel_1', 'precip'], 'bongerd')\n",
    "pl.lineplot(ax1, pdat['nvwa', 'channel_1', 'precip'], 'nvwa')\n",
    "pl.lineplot(ax1, pdat['biotechnion', 'channel_1', 'precip'], 'biotechnion')\n",
    "\n",
    "ax1.legend()\n",
    "ax1.set_xlabel('time')\n",
    "ax1.set_xlim('2015-07-18 22:00', '2015-07-19 22:00')\n",
    "ax1.set_ylim(0, 30)\n",
    "ax1.set_title('disdrometer derived rain intensity: 19 July')\n",
    "plt.grid=True\n",
    "plt.tight_layout()"
   ]
  },
  {
   "cell_type": "markdown",
   "metadata": {},
   "source": [
    "Case 3: 25 April 2015"
   ]
  },
  {
   "cell_type": "code",
   "execution_count": 99,
   "metadata": {
    "collapsed": true
   },
   "outputs": [],
   "source": [
    "fig1, ax1 = plt.subplots()\n",
    "pl.lineplot(ax1, pdat['forum_1', 'channel_1', 'precip'], 'forum_1')\n",
    "pl.lineplot(ax1, pdat['forum_2', 'channel_1', 'precip'], 'forum_2')\n",
    "pl.lineplot(ax1, pdat['bongerd', 'channel_1', 'precip'], 'bongerd')\n",
    "pl.lineplot(ax1, pdat['nvwa', 'channel_1', 'precip'], 'nvwa')\n",
    "pl.lineplot(ax1, pdat['biotechnion', 'channel_1', 'precip'], 'biotechnion')\n",
    "\n",
    "ax1.legend()\n",
    "ax1.set_xlabel('time')\n",
    "ax1.set_xlim('2015-04-25 03:00', '2015-04-25 11:00')\n",
    "ax1.set_ylim(0, 5)\n",
    "ax1.set_title('disdrometer derived rain intensity: 25 April')\n",
    "plt.grid=True\n",
    "plt.tight_layout()"
   ]
  },
  {
   "cell_type": "code",
   "execution_count": 13,
   "metadata": {
    "collapsed": true
   },
   "outputs": [],
   "source": [
    "plt.show()"
   ]
  },
  {
   "cell_type": "markdown",
   "metadata": {},
   "source": [
    "## Scatterplots\n",
    "### K-R relations"
   ]
  },
  {
   "cell_type": "code",
   "execution_count": 8,
   "metadata": {
    "collapsed": false
   },
   "outputs": [
    {
     "ename": "KeyError",
     "evalue": "'hmatrix'",
     "output_type": "error",
     "traceback": [
      "\u001b[1;31m---------------------------------------------------------------------------\u001b[0m",
      "\u001b[1;31mKeyError\u001b[0m                                  Traceback (most recent call last)",
      "\u001b[1;32m<ipython-input-8-3d696bb042cf>\u001b[0m in \u001b[0;36m<module>\u001b[1;34m()\u001b[0m\n\u001b[0;32m      1\u001b[0m \u001b[0midat\u001b[0m \u001b[1;33m=\u001b[0m \u001b[0mpdat\u001b[0m\u001b[1;33m[\u001b[0m\u001b[1;34m'forum_1'\u001b[0m\u001b[1;33m,\u001b[0m \u001b[1;34m'channel_1'\u001b[0m\u001b[1;33m]\u001b[0m\u001b[1;33m\u001b[0m\u001b[0m\n\u001b[1;32m----> 2\u001b[1;33m \u001b[0my\u001b[0m \u001b[1;33m=\u001b[0m \u001b[0midat\u001b[0m\u001b[1;33m[\u001b[0m\u001b[1;34m'precip'\u001b[0m\u001b[1;33m]\u001b[0m\u001b[1;33m[\u001b[0m\u001b[0midat\u001b[0m\u001b[1;33m[\u001b[0m\u001b[1;34m'hmatrix'\u001b[0m\u001b[1;33m]\u001b[0m\u001b[1;33m.\u001b[0m\u001b[0msel\u001b[0m\u001b[1;33m(\u001b[0m\u001b[0mhtype\u001b[0m\u001b[1;33m=\u001b[0m\u001b[1;34m'rain'\u001b[0m\u001b[1;33m)\u001b[0m \u001b[1;33m==\u001b[0m \u001b[1;36m0\u001b[0m\u001b[1;33m]\u001b[0m\u001b[1;33m\u001b[0m\u001b[0m\n\u001b[0m\u001b[0;32m      3\u001b[0m \u001b[0mx\u001b[0m \u001b[1;33m=\u001b[0m \u001b[0midat\u001b[0m\u001b[1;33m[\u001b[0m\u001b[1;34m'k_v38'\u001b[0m\u001b[1;33m]\u001b[0m\u001b[1;33m[\u001b[0m\u001b[0midat\u001b[0m\u001b[1;33m[\u001b[0m\u001b[1;34m'hmatrix'\u001b[0m\u001b[1;33m]\u001b[0m\u001b[1;33m.\u001b[0m\u001b[0msel\u001b[0m\u001b[1;33m(\u001b[0m\u001b[0mhtype\u001b[0m\u001b[1;33m=\u001b[0m\u001b[1;34m'rain'\u001b[0m\u001b[1;33m)\u001b[0m \u001b[1;33m==\u001b[0m \u001b[1;36m0\u001b[0m\u001b[1;33m]\u001b[0m\u001b[1;33m\u001b[0m\u001b[0m\n\u001b[0;32m      4\u001b[0m \u001b[0mx\u001b[0m \u001b[1;33m=\u001b[0m \u001b[0muf\u001b[0m\u001b[1;33m.\u001b[0m\u001b[0mlog\u001b[0m\u001b[1;33m(\u001b[0m\u001b[0mx\u001b[0m\u001b[1;33m)\u001b[0m\u001b[1;33m\u001b[0m\u001b[0m\n\u001b[0;32m      5\u001b[0m \u001b[0my\u001b[0m \u001b[1;33m=\u001b[0m \u001b[0muf\u001b[0m\u001b[1;33m.\u001b[0m\u001b[0mlog\u001b[0m\u001b[1;33m(\u001b[0m\u001b[0my\u001b[0m\u001b[1;33m)\u001b[0m\u001b[1;33m\u001b[0m\u001b[0m\n",
      "\u001b[1;32m/home/tcvanleth/Code2/mwlink/core/container_base.py\u001b[0m in \u001b[0;36m__getitem__\u001b[1;34m(self, keys)\u001b[0m\n\u001b[0;32m    298\u001b[0m                 \u001b[0mdims\u001b[0m\u001b[1;33m.\u001b[0m\u001b[0madd\u001b[0m\u001b[1;33m(\u001b[0m\u001b[0mvID\u001b[0m\u001b[1;33m)\u001b[0m\u001b[1;33m\u001b[0m\u001b[0m\n\u001b[0;32m    299\u001b[0m             \u001b[1;32melse\u001b[0m\u001b[1;33m:\u001b[0m\u001b[1;33m\u001b[0m\u001b[0m\n\u001b[1;32m--> 300\u001b[1;33m                 \u001b[1;32mraise\u001b[0m \u001b[0mKeyError\u001b[0m\u001b[1;33m(\u001b[0m\u001b[0mvID\u001b[0m\u001b[1;33m)\u001b[0m\u001b[1;33m\u001b[0m\u001b[0m\n\u001b[0m\u001b[0;32m    301\u001b[0m \u001b[1;33m\u001b[0m\u001b[0m\n\u001b[0;32m    302\u001b[0m         \u001b[0mdims\u001b[0m \u001b[1;33m=\u001b[0m \u001b[0mlist\u001b[0m\u001b[1;33m(\u001b[0m\u001b[0mdims\u001b[0m\u001b[1;33m)\u001b[0m\u001b[1;33m\u001b[0m\u001b[0m\n",
      "\u001b[1;31mKeyError\u001b[0m: 'hmatrix'"
     ]
    }
   ],
   "source": [
    "idat = pdat['forum_1', 'channel_1']\n",
    "y = idat['precip'][idat['hmatrix'].sel(htype='rain') == 0]\n",
    "x = idat['k_v38'][idat['hmatrix'].sel(htype='rain') == 0]\n",
    "x = uf.log(x)\n",
    "y = uf.log(y)\n",
    "mask = (~uf.isnan(x) & ~uf.isnan(y) & ~\n",
    "         uf.isinf(x) & ~uf.isinf(y))\n",
    "fig, ax = plt.subplots()\n",
    "H, xedges, yedges, img = plt.hist2d(x.values[mask.values].compressed(),\n",
    "                                    y.values[mask.values].compressed(), (1000, 1000), \n",
    "                                    cmap=cm.hot)\n",
    "ax.set_xlabel('%s (%s)' % ('specific attenuation', 'dB/km'))\n",
    "ax.set_ylabel('%s (%s)' % ('rain intensity', 'mm/hr'))\n",
    "ax.set_title('all parsivels')\n",
    "def f(x, pos): return '{:0.2e}'.format(uf.exp(x))\n",
    "ax.xaxis.set_major_formatter(mpl.ticker.FuncFormatter(f))\n",
    "ax.yaxis.set_major_formatter(mpl.ticker.FuncFormatter(f))\n",
    "fig.colorbar(img, ax=ax)\n",
    "plt.tight_layout()\n",
    "plt.grid = True\n"
   ]
  },
  {
   "cell_type": "code",
   "execution_count": 5,
   "metadata": {
    "collapsed": false
   },
   "outputs": [],
   "source": [
    "idat = pdat['forum_1', 'channel_1']\n",
    "y = idat['precip'][idat['hmatrix'].sel(htype='rain') == 1]\n",
    "x = idat['k_v38'][idat['hmatrix'].sel(htype='rain') == 1]\n",
    "x = uf.log(x)\n",
    "y = uf.log(y)\n",
    "fig, ax = plt.subplots()\n",
    "H, xedges, yedges, img = plt.hist2d(x.values.compressed(), y.values.compressed(), (1000, 1000), \n",
    "                                    cmap=cm.hot)\n",
    "\n",
    "ax.set_xlabel('%s (%s)' % ('specific attenuation', 'dB/km'))\n",
    "ax.set_ylabel('%s (%s)' % ('rain intensity', 'mm/hr'))\n",
    "ax.set_title('all parsivels')\n",
    "def f(x, pos): return '{:0.2e}'.format(uf.exp(x))\n",
    "ax.xaxis.set_major_formatter(mpl.ticker.FuncFormatter(f))\n",
    "ax.yaxis.set_major_formatter(mpl.ticker.FuncFormatter(f))\n",
    "fig.colorbar(img, ax=ax)\n",
    "plt.tight_layout()\n",
    "plt.grid = True"
   ]
  },
  {
   "cell_type": "code",
   "execution_count": 6,
   "metadata": {
    "collapsed": false
   },
   "outputs": [
    {
     "ename": "KeyError",
     "evalue": "'precip'",
     "output_type": "error",
     "traceback": [
      "\u001b[1;31m---------------------------------------------------------------------------\u001b[0m",
      "\u001b[1;31mKeyError\u001b[0m                                  Traceback (most recent call last)",
      "\u001b[1;32m<ipython-input-6-c5aa2394daea>\u001b[0m in \u001b[0;36m<module>\u001b[1;34m()\u001b[0m\n\u001b[1;32m----> 1\u001b[1;33m \u001b[0my\u001b[0m \u001b[1;33m=\u001b[0m \u001b[0mpdat\u001b[0m\u001b[1;33m[\u001b[0m\u001b[1;34m'biotechnion'\u001b[0m\u001b[1;33m,\u001b[0m \u001b[1;34m'channel_1'\u001b[0m\u001b[1;33m,\u001b[0m \u001b[1;34m'precip'\u001b[0m\u001b[1;33m]\u001b[0m\u001b[1;33m\u001b[0m\u001b[0m\n\u001b[0m\u001b[0;32m      2\u001b[0m \u001b[0mx\u001b[0m \u001b[1;33m=\u001b[0m \u001b[0mpdat\u001b[0m\u001b[1;33m[\u001b[0m\u001b[1;34m'biotechnion'\u001b[0m\u001b[1;33m,\u001b[0m \u001b[1;34m'channel_1'\u001b[0m\u001b[1;33m,\u001b[0m \u001b[1;34m'k_v38'\u001b[0m\u001b[1;33m]\u001b[0m\u001b[1;33m\u001b[0m\u001b[0m\n\u001b[0;32m      3\u001b[0m \u001b[0mfig7\u001b[0m\u001b[1;33m,\u001b[0m \u001b[0max7\u001b[0m \u001b[1;33m=\u001b[0m \u001b[0mpl\u001b[0m\u001b[1;33m.\u001b[0m\u001b[0mhist_2d\u001b[0m\u001b[1;33m(\u001b[0m\u001b[0mx\u001b[0m\u001b[1;33m,\u001b[0m \u001b[0my\u001b[0m\u001b[1;33m,\u001b[0m \u001b[0mlog\u001b[0m\u001b[1;33m=\u001b[0m\u001b[1;32mTrue\u001b[0m\u001b[1;33m)\u001b[0m\u001b[1;33m\u001b[0m\u001b[0m\n\u001b[0;32m      4\u001b[0m \u001b[0max7\u001b[0m\u001b[1;33m.\u001b[0m\u001b[0mset_title\u001b[0m\u001b[1;33m(\u001b[0m\u001b[1;34m'biotechnion'\u001b[0m\u001b[1;33m)\u001b[0m\u001b[1;33m\u001b[0m\u001b[0m\n",
      "\u001b[1;32m/home/tcvanleth/Code2/mwlink/core/container_common.py\u001b[0m in \u001b[0;36m__getitem__\u001b[1;34m(self, key)\u001b[0m\n\u001b[0;32m    359\u001b[0m                 \u001b[1;32mreturn\u001b[0m \u001b[0mnew\u001b[0m\u001b[1;33m\u001b[0m\u001b[0m\n\u001b[0;32m    360\u001b[0m             \u001b[1;32melse\u001b[0m\u001b[1;33m:\u001b[0m\u001b[1;33m\u001b[0m\u001b[0m\n\u001b[1;32m--> 361\u001b[1;33m                 \u001b[1;32mreturn\u001b[0m \u001b[0mself\u001b[0m\u001b[1;33m.\u001b[0m\u001b[0mstations\u001b[0m\u001b[1;33m[\u001b[0m\u001b[0mkey\u001b[0m\u001b[1;33m[\u001b[0m\u001b[1;36m0\u001b[0m\u001b[1;33m]\u001b[0m\u001b[1;33m]\u001b[0m\u001b[1;33m[\u001b[0m\u001b[0mkey\u001b[0m\u001b[1;33m[\u001b[0m\u001b[1;36m1\u001b[0m\u001b[1;33m:\u001b[0m\u001b[1;33m]\u001b[0m\u001b[1;33m]\u001b[0m\u001b[1;33m\u001b[0m\u001b[0m\n\u001b[0m\u001b[0;32m    362\u001b[0m         \u001b[1;32melse\u001b[0m\u001b[1;33m:\u001b[0m\u001b[1;33m\u001b[0m\u001b[0m\n\u001b[0;32m    363\u001b[0m             \u001b[1;32mreturn\u001b[0m \u001b[0mself\u001b[0m\u001b[1;33m.\u001b[0m\u001b[0mstations\u001b[0m\u001b[1;33m[\u001b[0m\u001b[0mkey\u001b[0m\u001b[1;33m]\u001b[0m\u001b[1;33m\u001b[0m\u001b[0m\n",
      "\u001b[1;32m/home/tcvanleth/Code2/mwlink/core/container_common.py\u001b[0m in \u001b[0;36m__getitem__\u001b[1;34m(self, key)\u001b[0m\n\u001b[0;32m    102\u001b[0m                 \u001b[1;32mreturn\u001b[0m \u001b[0mnew\u001b[0m\u001b[1;33m\u001b[0m\u001b[0m\n\u001b[0;32m    103\u001b[0m             \u001b[1;32melse\u001b[0m\u001b[1;33m:\u001b[0m\u001b[1;33m\u001b[0m\u001b[0m\n\u001b[1;32m--> 104\u001b[1;33m                 \u001b[1;32mreturn\u001b[0m \u001b[0mself\u001b[0m\u001b[1;33m.\u001b[0m\u001b[0mchannels\u001b[0m\u001b[1;33m[\u001b[0m\u001b[0mkey\u001b[0m\u001b[1;33m[\u001b[0m\u001b[1;36m0\u001b[0m\u001b[1;33m]\u001b[0m\u001b[1;33m]\u001b[0m\u001b[1;33m[\u001b[0m\u001b[0mkey\u001b[0m\u001b[1;33m[\u001b[0m\u001b[1;36m1\u001b[0m\u001b[1;33m]\u001b[0m\u001b[1;33m]\u001b[0m\u001b[1;33m\u001b[0m\u001b[0m\n\u001b[0m\u001b[0;32m    105\u001b[0m         \u001b[1;32melse\u001b[0m\u001b[1;33m:\u001b[0m\u001b[1;33m\u001b[0m\u001b[0m\n\u001b[0;32m    106\u001b[0m             \u001b[1;32mreturn\u001b[0m \u001b[0mself\u001b[0m\u001b[1;33m.\u001b[0m\u001b[0mchannels\u001b[0m\u001b[1;33m[\u001b[0m\u001b[0mkey\u001b[0m\u001b[1;33m]\u001b[0m\u001b[1;33m\u001b[0m\u001b[0m\n",
      "\u001b[1;32m/home/tcvanleth/Code2/mwlink/core/container_base.py\u001b[0m in \u001b[0;36m__getitem__\u001b[1;34m(self, keys)\u001b[0m\n\u001b[0;32m   1679\u001b[0m                 \u001b[1;33m(\u001b[0m\u001b[0mdims\u001b[0m\u001b[1;33m.\u001b[0m\u001b[0madd\u001b[0m\u001b[1;33m(\u001b[0m\u001b[0mx\u001b[0m\u001b[1;33m)\u001b[0m \u001b[1;32mfor\u001b[0m \u001b[0mx\u001b[0m \u001b[1;32min\u001b[0m \u001b[0mself\u001b[0m\u001b[1;33m.\u001b[0m\u001b[0mvariables\u001b[0m\u001b[1;33m[\u001b[0m\u001b[0mvID\u001b[0m\u001b[1;33m]\u001b[0m\u001b[1;33m.\u001b[0m\u001b[0mdims\u001b[0m\u001b[1;33m)\u001b[0m\u001b[1;33m\u001b[0m\u001b[0m\n\u001b[0;32m   1680\u001b[0m             \u001b[1;32melse\u001b[0m\u001b[1;33m:\u001b[0m\u001b[1;33m\u001b[0m\u001b[0m\n\u001b[1;32m-> 1681\u001b[1;33m                 \u001b[1;32mraise\u001b[0m \u001b[0mKeyError\u001b[0m\u001b[1;33m(\u001b[0m\u001b[0mvID\u001b[0m\u001b[1;33m)\u001b[0m\u001b[1;33m\u001b[0m\u001b[0m\n\u001b[0m\u001b[0;32m   1682\u001b[0m \u001b[1;33m\u001b[0m\u001b[0m\n\u001b[0;32m   1683\u001b[0m         \u001b[0mdims\u001b[0m \u001b[1;33m=\u001b[0m \u001b[0mlist\u001b[0m\u001b[1;33m(\u001b[0m\u001b[0mdims\u001b[0m\u001b[1;33m)\u001b[0m\u001b[1;33m\u001b[0m\u001b[0m\n",
      "\u001b[1;31mKeyError\u001b[0m: 'precip'"
     ]
    }
   ],
   "source": [
    "y = pdat['biotechnion', 'channel_1', 'precip']\n",
    "x = pdat['biotechnion', 'channel_1', 'k_v38']\n",
    "fig7, ax7 = pl.hist_2d(x, y, log=True)\n",
    "ax7.set_title('biotechnion')"
   ]
  },
  {
   "cell_type": "code",
   "execution_count": 106,
   "metadata": {
    "collapsed": true
   },
   "outputs": [],
   "source": [
    "rcParams['figure.figsize'] = 12, 9"
   ]
  },
  {
   "cell_type": "code",
   "execution_count": 109,
   "metadata": {
    "collapsed": true
   },
   "outputs": [],
   "source": [
    "adat = io.import_ds('link_aux', 'WURex14', proID='pars_test1')"
   ]
  },
  {
   "cell_type": "markdown",
   "metadata": {},
   "source": [
    "## Point k-R relations"
   ]
  },
  {
   "cell_type": "code",
   "execution_count": 12,
   "metadata": {
    "collapsed": false
   },
   "outputs": [
    {
     "data": {
      "text/plain": [
       "[<matplotlib.lines.Line2D at 0x7f13214616d8>]"
      ]
     },
     "execution_count": 12,
     "metadata": {},
     "output_type": "execute_result"
    }
   ],
   "source": [
    "k = pdat.select(quantity='specific_attenuation', frequency=38E9, polarization='V')\n",
    "R = pdat.select(quantity='volume_flux')\n",
    "\n",
    "x = uf.log(k.flatten())\n",
    "y = uf.log(R.flatten())\n",
    "mask = (~uf.isnan(x) & ~uf.isnan(y) & ~\n",
    "         uf.isinf(x) & ~uf.isinf(y))\n",
    "\n",
    "fig, ax = plt.subplots()\n",
    "H, xedges, yedges, img = plt.hist2d(x[mask], y[mask], (1000, 1000),\n",
    "                                       cmap=cm.hot)\n",
    "\n",
    "ax.set_xlabel('%s (%s)' % ('specific attenuation @ 38GHz', 'dB/km'))\n",
    "ax.set_ylabel('%s (%s)' % ('rain intensity', 'mm/hr'))\n",
    "ax.set_title('disdrometer derived point relations')\n",
    "def f(x, pos): return '{:0.2e}'.format(uf.exp(x))\n",
    "ax.xaxis.set_major_formatter(mpl.ticker.FuncFormatter(f))\n",
    "ax.yaxis.set_major_formatter(mpl.ticker.FuncFormatter(f))\n",
    "fig.colorbar(img, ax=ax)\n",
    "plt.tight_layout()\n",
    "plt.grid = True\n",
    "\n",
    "y2 = uf.log(3.368)+1.031*x\n",
    "ax.plot(x, y2, 'b,')"
   ]
  },
  {
   "cell_type": "code",
   "execution_count": 128,
   "metadata": {
    "collapsed": true
   },
   "outputs": [],
   "source": [
    "k = pdat.select(quantity='specific_attenuation', frequency=26E9, polarization='V')\n",
    "R = pdat.select(quantity='volume_flux')\n",
    "\n",
    "x = uf.log(k.flatten())\n",
    "y = uf.log(R.flatten())\n",
    "mask = (~uf.isnan(x) & ~uf.isnan(y) & ~\n",
    "         uf.isinf(x) & ~uf.isinf(y))\n",
    "\n",
    "fig, ax = plt.subplots()\n",
    "H, xedges, yedges, img = plt.hist2d(x[mask], y[mask], (1000, 1000),\n",
    "                                       cmap=cm.hot)\n",
    "\n",
    "ax.set_xlabel('%s (%s)' % ('specific attenuation @ 26GHz', 'dB/km'))\n",
    "ax.set_ylabel('%s (%s)' % ('rain intensity', 'mm/hr'))\n",
    "ax.set_title('disdrometer derived point relations')\n",
    "def f(x, pos): return '{:0.2e}'.format(uf.exp(x))\n",
    "ax.xaxis.set_major_formatter(mpl.ticker.FuncFormatter(f))\n",
    "ax.yaxis.set_major_formatter(mpl.ticker.FuncFormatter(f))\n",
    "fig.colorbar(img, ax=ax)\n",
    "plt.tight_layout()\n",
    "plt.grid = True"
   ]
  },
  {
   "cell_type": "code",
   "execution_count": 129,
   "metadata": {
    "collapsed": true
   },
   "outputs": [],
   "source": [
    "phi = pdat.select(quantity='differential_phase_angle', frequency=38E9)\n",
    "R = pdat.select(quantity='volume_flux')\n",
    "\n",
    "x = uf.log(phi.flatten())\n",
    "y = uf.log(R.flatten())\n",
    "mask = (~uf.isnan(x) & ~uf.isnan(y) & ~\n",
    "         uf.isinf(x) & ~uf.isinf(y))\n",
    "\n",
    "fig, ax = plt.subplots()\n",
    "H, xedges, yedges, img = plt.hist2d(x[mask], y[mask], (1000, 1000),\n",
    "                                       cmap=cm.hot)\n",
    "\n",
    "ax.set_xlabel('%s (%s)' % ('differential phase angle @ 38GHz', 'rad/km'))\n",
    "ax.set_ylabel('%s (%s)' % ('rain intensity', 'mm/hr'))\n",
    "ax.set_title('disdrometer derived point relations')\n",
    "def f(x, pos): return '{:0.2e}'.format(uf.exp(x))\n",
    "ax.xaxis.set_major_formatter(mpl.ticker.FuncFormatter(f))\n",
    "ax.yaxis.set_major_formatter(mpl.ticker.FuncFormatter(f))\n",
    "fig.colorbar(img, ax=ax)\n",
    "plt.tight_layout()\n",
    "plt.grid = True"
   ]
  },
  {
   "cell_type": "markdown",
   "metadata": {},
   "source": [
    "## path k-R relations"
   ]
  },
  {
   "cell_type": "code",
   "execution_count": 110,
   "metadata": {
    "collapsed": true
   },
   "outputs": [],
   "source": [
    "idat = adat['parsivel', 'channel_1']\n",
    "y = idat['precip'][idat['hmatrix'].sel(htype='rain') == 1]\n",
    "x = idat['k_v38'][idat['hmatrix'].sel(htype='rain') == 1]\n",
    "x = uf.log(x)\n",
    "y = uf.log(y)\n",
    "fig, ax = plt.subplots()\n",
    "H, xedges, yedges, img = plt.hist2d(x.values.compressed(), y.values.compressed(), (1000, 1000), \n",
    "                                    cmap=cm.hot)\n",
    "\n",
    "ax.set_xlabel('%s (%s)' % ('specific attenuation', 'dB/km'))\n",
    "ax.set_ylabel('%s (%s)' % ('rain intensity', 'mm/hr'))\n",
    "ax.set_title('all parsivels')\n",
    "def f(x, pos): return '{:0.2e}'.format(uf.exp(x))\n",
    "ax.xaxis.set_major_formatter(mpl.ticker.FuncFormatter(f))\n",
    "ax.yaxis.set_major_formatter(mpl.ticker.FuncFormatter(f))\n",
    "fig.colorbar(img, ax=ax)\n",
    "plt.tight_layout()\n",
    "plt.grid = True"
   ]
  },
  {
   "cell_type": "markdown",
   "metadata": {},
   "source": [
    "## link attenuation versus parsivel rain"
   ]
  },
  {
   "cell_type": "code",
   "execution_count": 112,
   "metadata": {
    "collapsed": false
   },
   "outputs": [
    {
     "ename": "NameError",
     "evalue": "name 'ldat' is not defined",
     "output_type": "error",
     "traceback": [
      "\u001b[1;31m---------------------------------------------------------------------------\u001b[0m",
      "\u001b[1;31mNameError\u001b[0m                                 Traceback (most recent call last)",
      "\u001b[1;32m<ipython-input-112-a1ccd4aaf682>\u001b[0m in \u001b[0;36m<module>\u001b[1;34m()\u001b[0m\n\u001b[1;32m----> 1\u001b[1;33m \u001b[0mx\u001b[0m \u001b[1;33m=\u001b[0m \u001b[0mldat\u001b[0m\u001b[1;33m[\u001b[0m\u001b[1;34m'nokia'\u001b[0m\u001b[1;33m,\u001b[0m \u001b[1;34m'channel_1'\u001b[0m\u001b[1;33m,\u001b[0m \u001b[1;34m'k_mean'\u001b[0m\u001b[1;33m]\u001b[0m\u001b[1;33m[\u001b[0m\u001b[0madat\u001b[0m\u001b[1;33m[\u001b[0m\u001b[1;34m'hmatrix'\u001b[0m\u001b[1;33m]\u001b[0m\u001b[1;33m.\u001b[0m\u001b[0msel\u001b[0m\u001b[1;33m(\u001b[0m\u001b[0mhtype\u001b[0m\u001b[1;33m=\u001b[0m\u001b[1;34m'rain'\u001b[0m\u001b[1;33m)\u001b[0m \u001b[1;33m==\u001b[0m \u001b[1;36m1\u001b[0m\u001b[1;33m]\u001b[0m\u001b[1;33m\u001b[0m\u001b[0m\n\u001b[0m\u001b[0;32m      2\u001b[0m \u001b[0my\u001b[0m \u001b[1;33m=\u001b[0m \u001b[0madat\u001b[0m\u001b[1;33m[\u001b[0m\u001b[1;34m'parsivel'\u001b[0m\u001b[1;33m,\u001b[0m \u001b[1;34m'channel_1'\u001b[0m\u001b[1;33m,\u001b[0m \u001b[1;34m'precip'\u001b[0m\u001b[1;33m]\u001b[0m\u001b[1;33m[\u001b[0m\u001b[0madat\u001b[0m\u001b[1;33m[\u001b[0m\u001b[1;34m'hmatrix'\u001b[0m\u001b[1;33m]\u001b[0m\u001b[1;33m.\u001b[0m\u001b[0msel\u001b[0m\u001b[1;33m(\u001b[0m\u001b[0mhtype\u001b[0m\u001b[1;33m=\u001b[0m\u001b[1;34m'rain'\u001b[0m\u001b[1;33m)\u001b[0m \u001b[1;33m==\u001b[0m \u001b[1;36m1\u001b[0m\u001b[1;33m]\u001b[0m\u001b[1;33m\u001b[0m\u001b[0m\n\u001b[0;32m      3\u001b[0m \u001b[0mx\u001b[0m \u001b[1;33m=\u001b[0m \u001b[0muf\u001b[0m\u001b[1;33m.\u001b[0m\u001b[0mlog\u001b[0m\u001b[1;33m(\u001b[0m\u001b[0mx\u001b[0m\u001b[1;33m)\u001b[0m\u001b[1;33m\u001b[0m\u001b[0m\n\u001b[0;32m      4\u001b[0m \u001b[0my\u001b[0m \u001b[1;33m=\u001b[0m \u001b[0muf\u001b[0m\u001b[1;33m.\u001b[0m\u001b[0mlog\u001b[0m\u001b[1;33m(\u001b[0m\u001b[0my\u001b[0m\u001b[1;33m)\u001b[0m\u001b[1;33m\u001b[0m\u001b[0m\n\u001b[0;32m      5\u001b[0m \u001b[1;33m\u001b[0m\u001b[0m\n",
      "\u001b[1;31mNameError\u001b[0m: name 'ldat' is not defined"
     ]
    }
   ],
   "source": [
    "x = ldat['nokia', 'channel_1', 'k_mean'][adat['hmatrix'].sel(htype='rain') == 1]\n",
    "y = adat['parsivel', 'channel_1', 'precip'][adat['hmatrix'].sel(htype='rain') == 1]\n",
    "x = uf.log(x)\n",
    "y = uf.log(y)\n",
    "\n",
    "mask = (~uf.isnan(x) & ~uf.isnan(y) & ~\n",
    "         uf.isinf(x) & ~uf.isinf(y))\n",
    "\n",
    "fig, ax = plt.subplots()\n",
    "H, xedges, yedges, img = plt.hist2d(x.values[mask.values].compressed(), y.values[mask.values].compressed(), (1000, 1000), \n",
    "                                    cmap=cm.hot)\n",
    "\n",
    "ax.set_xlabel('%s (%s)' % ('specific attenuation', 'dB/km'))\n",
    "ax.set_ylabel('%s (%s)' % ('rain intensity', 'mm/hr'))\n",
    "ax.set_title('all parsivels')\n",
    "def f(x, pos): return '{:0.2e}'.format(uf.exp(x))\n",
    "ax.xaxis.set_major_formatter(mpl.ticker.FuncFormatter(f))\n",
    "ax.yaxis.set_major_formatter(mpl.ticker.FuncFormatter(f))\n",
    "fig.colorbar(img, ax=ax)\n",
    "plt.tight_layout()\n",
    "plt.grid = True"
   ]
  },
  {
   "cell_type": "code",
   "execution_count": 130,
   "metadata": {
    "collapsed": false
   },
   "outputs": [],
   "source": [
    "plt.show()"
   ]
  },
  {
   "cell_type": "code",
   "execution_count": 138,
   "metadata": {
    "collapsed": false
   },
   "outputs": [],
   "source": [
    "x = pdat['forum_1', 'channel_1', 'precip']\n",
    "y = pdat['forum_2', 'channel_1', 'precip']\n",
    "x = uf.cumsum(x)\n",
    "y = uf.cumsum(y)\n",
    "mask = (~uf.isnan(x) & ~uf.isnan(y) & ~\n",
    "         uf.isinf(x) & ~uf.isinf(y))\n",
    "\n",
    "fig, ax = plt.subplots()\n",
    "line, = ax.plot(x.values[mask.values], y.values[mask.values])\n"
   ]
  },
  {
   "cell_type": "code",
   "execution_count": 139,
   "metadata": {
    "collapsed": false
   },
   "outputs": [],
   "source": [
    "plt.show()"
   ]
  },
  {
   "cell_type": "code",
   "execution_count": 144,
   "metadata": {
    "collapsed": false
   },
   "outputs": [
    {
     "data": {
      "text/plain": [
       "(1445760,)"
      ]
     },
     "execution_count": 144,
     "metadata": {},
     "output_type": "execute_result"
    }
   ],
   "source": []
  },
  {
   "cell_type": "code",
   "execution_count": null,
   "metadata": {
    "collapsed": true
   },
   "outputs": [],
   "source": []
  }
 ],
 "metadata": {
  "kernelspec": {
   "display_name": "Python [default]",
   "language": "python",
   "name": "python3"
  },
  "language_info": {
   "codemirror_mode": {
    "name": "ipython",
    "version": 3
   },
   "file_extension": ".py",
   "mimetype": "text/x-python",
   "name": "python",
   "nbconvert_exporter": "python",
   "pygments_lexer": "ipython3",
   "version": "3.5.2"
  }
 },
 "nbformat": 4,
 "nbformat_minor": 0
}
